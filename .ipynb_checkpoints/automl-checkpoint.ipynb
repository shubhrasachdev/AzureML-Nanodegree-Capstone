{
 "cells": [
  {
   "cell_type": "markdown",
   "metadata": {},
   "source": [
    "# Automated ML"
   ]
  },
  {
   "cell_type": "code",
   "execution_count": 1,
   "metadata": {
    "gather": {
     "logged": 1598423888013
    },
    "jupyter": {
     "outputs_hidden": false,
     "source_hidden": false
    },
    "nteract": {
     "transient": {
      "deleting": false
     }
    }
   },
   "outputs": [],
   "source": [
    "import os\n",
    "import joblib\n",
    "from azureml.core import Workspace, Experiment\n",
    "from azureml.core.compute import ComputeTarget, AmlCompute\n",
    "from azureml.core.compute_target import ComputeTargetException\n",
    "from azureml.widgets import RunDetails\n",
    "from azureml.data.dataset_factory import TabularDatasetFactory\n",
    "from azureml.train.automl import AutoMLConfig\n",
    "from pprint import pprint"
   ]
  },
  {
   "cell_type": "code",
   "execution_count": 2,
   "metadata": {},
   "outputs": [
    {
     "name": "stdout",
     "output_type": "stream",
     "text": [
      "Workspace name: quick-starts-ws-138625\n",
      "Azure region: southcentralus\n",
      "Subscription id: 1b944a9b-fdae-4f97-aeb1-b7eea0beac53\n",
      "Resource group: aml-quickstarts-138625\n"
     ]
    }
   ],
   "source": [
    "ws = Workspace.from_config()\n",
    "\n",
    "# choose a name for experiment\n",
    "experiment_name = 'diabetes-automl'\n",
    "\n",
    "experiment = Experiment(ws, experiment_name)\n",
    "\n",
    "print('Workspace name: ' + ws.name, \n",
    "      'Azure region: ' + ws.location, \n",
    "      'Subscription id: ' + ws.subscription_id, \n",
    "      'Resource group: ' + ws.resource_group, sep = '\\n')\n",
    "\n",
    "run = experiment.start_logging()"
   ]
  },
  {
   "cell_type": "code",
   "execution_count": 3,
   "metadata": {},
   "outputs": [
    {
     "name": "stdout",
     "output_type": "stream",
     "text": [
      "Creating\n",
      "Succeeded...................\n",
      "AmlCompute wait for completion finished\n",
      "\n",
      "Minimum number of nodes requested have been provisioned\n"
     ]
    }
   ],
   "source": [
    "# Create compute cluster\n",
    "cpu_cluster_name = \"aml-cluster\"\n",
    "try:\n",
    "    cpu_cluster = ComputeTarget(workspace=ws, name=cpu_cluster_name)\n",
    "except:\n",
    "    compute_config = AmlCompute.provisioning_configuration(vm_size = 'STANDARD_D2_V2', min_nodes = 1, max_nodes = 4)\n",
    "    cpu_cluster = ComputeTarget.create(ws, cpu_cluster_name, compute_config)\n",
    "\n",
    "cpu_cluster.wait_for_completion(show_output=True, min_node_count = 1, timeout_in_minutes = 10)"
   ]
  },
  {
   "cell_type": "markdown",
   "metadata": {},
   "source": [
    "## Dataset\n",
    "\n",
    "### Overview \n",
    "The dataset chosen for this project can be found at https://www.kaggle.com/uciml/pima-indians-diabetes-database\n",
    "\n",
    "\n",
    "It consists of several medical predictors (independent) variables and one target (dependent) variable, Outcome. Independent variables include the number of pregnancies the patient has had, their BMI, insulin level, age, and so on. The Outcome has \"1\" for patients who were found to have diabetes, and \"0\" for those who weren't."
   ]
  },
  {
   "cell_type": "code",
   "execution_count": 4,
   "metadata": {
    "gather": {
     "logged": 1598423890461
    },
    "jupyter": {
     "outputs_hidden": false,
     "source_hidden": false
    },
    "nteract": {
     "transient": {
      "deleting": false
     }
    }
   },
   "outputs": [
    {
     "name": "stdout",
     "output_type": "stream",
     "text": [
      "Registered dataset found in the workspace.\n"
     ]
    }
   ],
   "source": [
    "# Try to load the dataset from the Workspace. Otherwise, create it from the file\n",
    "found = False\n",
    "key = \"Diabetes Dataset\"\n",
    "description_text = \"Diabetes Dataset for Udacity Nanodegree\"\n",
    "\n",
    "if key in ws.datasets.keys(): \n",
    "        found = True\n",
    "        dataset = ws.datasets[key] \n",
    "        print(\"Registered dataset found in the workspace.\")\n",
    "\n",
    "if not found:\n",
    "        # Register AML Dataset in Workspace\n",
    "        dataset_url = \"https://raw.githubusercontent.com/shubhrasachdev/AzureML-Nanodegree-Capstone/main/diabetes.csv\"\n",
    "        ds = TabularDatasetFactory.from_delimited_files(path = dataset_url)\n",
    "        dataset = ds.register(workspace=ws,\n",
    "                              name=key,\n",
    "                              description=description_text)\n",
    "        print(\"Dataset registered in workspace.\")"
   ]
  },
  {
   "cell_type": "code",
   "execution_count": 5,
   "metadata": {},
   "outputs": [
    {
     "data": {
      "text/html": [
       "<div>\n",
       "<style scoped>\n",
       "    .dataframe tbody tr th:only-of-type {\n",
       "        vertical-align: middle;\n",
       "    }\n",
       "\n",
       "    .dataframe tbody tr th {\n",
       "        vertical-align: top;\n",
       "    }\n",
       "\n",
       "    .dataframe thead th {\n",
       "        text-align: right;\n",
       "    }\n",
       "</style>\n",
       "<table border=\"1\" class=\"dataframe\">\n",
       "  <thead>\n",
       "    <tr style=\"text-align: right;\">\n",
       "      <th></th>\n",
       "      <th>Pregnancies</th>\n",
       "      <th>Glucose</th>\n",
       "      <th>BloodPressure</th>\n",
       "      <th>SkinThickness</th>\n",
       "      <th>Insulin</th>\n",
       "      <th>BMI</th>\n",
       "      <th>DiabetesPedigreeFunction</th>\n",
       "      <th>Age</th>\n",
       "      <th>Outcome</th>\n",
       "    </tr>\n",
       "  </thead>\n",
       "  <tbody>\n",
       "    <tr>\n",
       "      <th>0</th>\n",
       "      <td>6</td>\n",
       "      <td>148</td>\n",
       "      <td>72</td>\n",
       "      <td>35</td>\n",
       "      <td>0</td>\n",
       "      <td>33.6</td>\n",
       "      <td>0.627</td>\n",
       "      <td>50</td>\n",
       "      <td>1</td>\n",
       "    </tr>\n",
       "    <tr>\n",
       "      <th>1</th>\n",
       "      <td>1</td>\n",
       "      <td>85</td>\n",
       "      <td>66</td>\n",
       "      <td>29</td>\n",
       "      <td>0</td>\n",
       "      <td>26.6</td>\n",
       "      <td>0.351</td>\n",
       "      <td>31</td>\n",
       "      <td>0</td>\n",
       "    </tr>\n",
       "    <tr>\n",
       "      <th>2</th>\n",
       "      <td>8</td>\n",
       "      <td>183</td>\n",
       "      <td>64</td>\n",
       "      <td>0</td>\n",
       "      <td>0</td>\n",
       "      <td>23.3</td>\n",
       "      <td>0.672</td>\n",
       "      <td>32</td>\n",
       "      <td>1</td>\n",
       "    </tr>\n",
       "    <tr>\n",
       "      <th>3</th>\n",
       "      <td>1</td>\n",
       "      <td>89</td>\n",
       "      <td>66</td>\n",
       "      <td>23</td>\n",
       "      <td>94</td>\n",
       "      <td>28.1</td>\n",
       "      <td>0.167</td>\n",
       "      <td>21</td>\n",
       "      <td>0</td>\n",
       "    </tr>\n",
       "    <tr>\n",
       "      <th>4</th>\n",
       "      <td>0</td>\n",
       "      <td>137</td>\n",
       "      <td>40</td>\n",
       "      <td>35</td>\n",
       "      <td>168</td>\n",
       "      <td>43.1</td>\n",
       "      <td>2.288</td>\n",
       "      <td>33</td>\n",
       "      <td>1</td>\n",
       "    </tr>\n",
       "  </tbody>\n",
       "</table>\n",
       "</div>"
      ],
      "text/plain": [
       "   Pregnancies  Glucose  BloodPressure  SkinThickness  Insulin   BMI  \\\n",
       "0            6      148             72             35        0  33.6   \n",
       "1            1       85             66             29        0  26.6   \n",
       "2            8      183             64              0        0  23.3   \n",
       "3            1       89             66             23       94  28.1   \n",
       "4            0      137             40             35      168  43.1   \n",
       "\n",
       "   DiabetesPedigreeFunction  Age  Outcome  \n",
       "0                     0.627   50        1  \n",
       "1                     0.351   31        0  \n",
       "2                     0.672   32        1  \n",
       "3                     0.167   21        0  \n",
       "4                     2.288   33        1  "
      ]
     },
     "execution_count": 5,
     "metadata": {},
     "output_type": "execute_result"
    }
   ],
   "source": [
    "df = dataset.to_pandas_dataframe()\n",
    "df.head()"
   ]
  },
  {
   "cell_type": "code",
   "execution_count": 6,
   "metadata": {},
   "outputs": [
    {
     "name": "stdout",
     "output_type": "stream",
     "text": [
      "<class 'pandas.core.frame.DataFrame'>\n",
      "RangeIndex: 768 entries, 0 to 767\n",
      "Data columns (total 9 columns):\n",
      "Pregnancies                 768 non-null int64\n",
      "Glucose                     768 non-null int64\n",
      "BloodPressure               768 non-null int64\n",
      "SkinThickness               768 non-null int64\n",
      "Insulin                     768 non-null int64\n",
      "BMI                         768 non-null float64\n",
      "DiabetesPedigreeFunction    768 non-null float64\n",
      "Age                         768 non-null int64\n",
      "Outcome                     768 non-null int64\n",
      "dtypes: float64(2), int64(7)\n",
      "memory usage: 54.1 KB\n"
     ]
    }
   ],
   "source": [
    "df.info()"
   ]
  },
  {
   "cell_type": "code",
   "execution_count": 7,
   "metadata": {},
   "outputs": [
    {
     "name": "stdout",
     "output_type": "stream",
     "text": [
      "Percentage of Diabetic People =  0.3489583333333333\n",
      "Percentage of Non-Diabetic People =  0.6510416666666666\n"
     ]
    },
    {
     "data": {
      "image/png": "[encoded data removed]",
      "text/plain": [
       "<Figure size 432x288 with 1 Axes>"
      ]
     },
     "metadata": {
      "needs_background": "light"
     },
     "output_type": "display_data"
    }
   ],
   "source": [
    "import seaborn as sns\n",
    "sns.countplot(x='Outcome', data=df)\n",
    "\n",
    "# Percentages of diabetic and non-diabetic people\n",
    "total = df.shape[0]\n",
    "print(\"Percentage of Diabetic People = \",df[df['Outcome'] == 1].Outcome.count()/total)\n",
    "print(\"Percentage of Non-Diabetic People = \",df[df['Outcome'] == 0].Outcome.count()/total)"
   ]
  },
  {
   "cell_type": "markdown",
   "metadata": {},
   "source": [
    "## AutoML Configuration\n",
    "\n",
    "The settings for the AutoML run are as follows - \n",
    "* Experiment Timeout - This is set to a period of 60 minutes, which is sufficient time to get a model with satisfactory accuracy.\n",
    "* Maximum Concurrent Iterations - The number of runs that can be processed concurrently. This value cannot be greater than the maximum number of nodes in the compute cluster to be utilized.\n",
    "* Primary Metric - This is set as Accuracy.\n",
    "* A Computer target is also specified for running the experiment\n",
    "* Task - This is set as Classification, since we wish to predict whether or not a patient with given medical predictors has diabetes.\n",
    "* Training Data - Chosen as the Pima Indians Diabetes dataset from Kaggle\n",
    "* Label Column Name - Specified as \"Öutcome\", and has binary values (1s or 0s)\n",
    "* Early Stopping has been enabled to ensure the experiment does not run for a long time.\n",
    "* Model Explainability is set to true, for the purposes of studying the feature importance.\n",
    "* Featurization is set to \"auto\"\n",
    "* The number of cross validations is set to 5"
   ]
  },
  {
   "cell_type": "code",
   "execution_count": 8,
   "metadata": {
    "gather": {
     "logged": 1598429217746
    },
    "jupyter": {
     "outputs_hidden": false,
     "source_hidden": false
    },
    "nteract": {
     "transient": {
      "deleting": false
     }
    }
   },
   "outputs": [],
   "source": [
    "# Automl settings\n",
    "automl_settings = {\n",
    "    \"experiment_timeout_minutes\": 60,\n",
    "    \"max_concurrent_iterations\": 4,\n",
    "    \"primary_metric\" : 'accuracy'\n",
    "}\n",
    "\n",
    "# Automl config\n",
    "automl_config = AutoMLConfig(compute_target = cpu_cluster,\n",
    "                             task = \"classification\",\n",
    "                             training_data = dataset,\n",
    "                             label_column_name = \"Outcome\",   \n",
    "                             enable_early_stopping = True,\n",
    "                             model_explainability = True,\n",
    "                             featurization = 'auto',\n",
    "                             debug_log = \"automl_errors.log\",\n",
    "                             n_cross_validations = 5,\n",
    "                             **automl_settings\n",
    "                            )"
   ]
  },
  {
   "cell_type": "code",
   "execution_count": 9,
   "metadata": {
    "gather": {
     "logged": 1598431107951
    },
    "jupyter": {
     "outputs_hidden": false,
     "source_hidden": false
    },
    "nteract": {
     "transient": {
      "deleting": false
     }
    }
   },
   "outputs": [
    {
     "name": "stdout",
     "output_type": "stream",
     "text": [
      "Running on remote.\n"
     ]
    }
   ],
   "source": [
    "# Submit experiment\n",
    "automl_run = experiment.submit(automl_config)"
   ]
  },
  {
   "cell_type": "markdown",
   "metadata": {},
   "source": [
    "## Run Details\n",
    "\n",
    "The best performing model during the AutoML run is the Voting Ensemble model with an accuracy of 0.7735."
   ]
  },
  {
   "cell_type": "code",
   "execution_count": 10,
   "metadata": {
    "gather": {
     "logged": 1598431121770
    },
    "jupyter": {
     "outputs_hidden": false,
     "source_hidden": false
    },
    "nteract": {
     "transient": {
      "deleting": false
     }
    }
   },
   "outputs": [
    {
     "data": {
      "application/vnd.jupyter.widget-view+json": {
       "model_id": "7ac1f32f1f1d481ab5d45bed9a7f2432",
       "version_major": 2,
       "version_minor": 0
      },
      "text/plain": [
       "_AutoMLWidget(widget_settings={'childWidgetDisplay': 'popup', 'send_telemetry': False, 'log_level': 'INFO', 's…"
      ]
     },
     "metadata": {},
     "output_type": "display_data"
    },
    {
     "data": {
      "application/aml.mini.widget.v1": "{\"status\": \"Completed\", \"workbench_run_details_uri\": \"https://ml.azure.com/experiments/diabetes-automl/runs/AutoML_b582790a-3d9c-4cd7-a438-914f54928209?wsid=/subscriptions/1b944a9b-fdae-4f97-aeb1-b7eea0beac53/resourcegroups/aml-quickstarts-138625/workspaces/quick-starts-ws-138625\", \"run_id\": \"AutoML_b582790a-3d9c-4cd7-a438-914f54928209\", \"run_properties\": {\"run_id\": \"AutoML_b582790a-3d9c-4cd7-a438-914f54928209\", \"created_utc\": \"2021-02-11T21:03:49.22489Z\", \"properties\": {\"num_iterations\": \"1000\", \"training_type\": \"TrainFull\", \"acquisition_function\": \"EI\", \"primary_metric\": \"accuracy\", \"train_split\": \"0\", \"acquisition_parameter\": \"0\", \"num_cross_validation\": \"5\", \"target\": \"aml-cluster\", \"AMLSettingsJsonString\": \"{\\\"path\\\":null,\\\"name\\\":\\\"diabetes-automl\\\",\\\"subscription_id\\\":\\\"1b944a9b-fdae-4f97-aeb1-b7eea0beac53\\\",\\\"resource_group\\\":\\\"aml-quickstarts-138625\\\",\\\"workspace_name\\\":\\\"quick-starts-ws-138625\\\",\\\"region\\\":\\\"southcentralus\\\",\\\"compute_target\\\":\\\"aml-cluster\\\",\\\"spark_service\\\":null,\\\"azure_service\\\":\\\"remote\\\",\\\"many_models\\\":false,\\\"pipeline_fetch_max_batch_size\\\":1,\\\"iterations\\\":1000,\\\"primary_metric\\\":\\\"accuracy\\\",\\\"task_type\\\":\\\"classification\\\",\\\"data_script\\\":null,\\\"validation_size\\\":0.0,\\\"n_cross_validations\\\":5,\\\"y_min\\\":null,\\\"y_max\\\":null,\\\"num_classes\\\":null,\\\"featurization\\\":\\\"auto\\\",\\\"_ignore_package_version_incompatibilities\\\":false,\\\"is_timeseries\\\":false,\\\"max_cores_per_iteration\\\":1,\\\"max_concurrent_iterations\\\":4,\\\"iteration_timeout_minutes\\\":null,\\\"mem_in_mb\\\":null,\\\"enforce_time_on_windows\\\":false,\\\"experiment_timeout_minutes\\\":60,\\\"experiment_exit_score\\\":null,\\\"whitelist_models\\\":null,\\\"blacklist_algos\\\":[\\\"TensorFlowLinearClassifier\\\",\\\"TensorFlowDNN\\\"],\\\"supported_models\\\":[\\\"SVM\\\",\\\"RandomForest\\\",\\\"GradientBoosting\\\",\\\"BernoulliNaiveBayes\\\",\\\"KNN\\\",\\\"AveragedPerceptronClassifier\\\",\\\"MultinomialNaiveBayes\\\",\\\"LightGBM\\\",\\\"TensorFlowDNN\\\",\\\"ExtremeRandomTrees\\\",\\\"LinearSVM\\\",\\\"TensorFlowLinearClassifier\\\",\\\"XGBoostClassifier\\\",\\\"LogisticRegression\\\",\\\"DecisionTree\\\",\\\"SGD\\\"],\\\"auto_blacklist\\\":true,\\\"blacklist_samples_reached\\\":false,\\\"exclude_nan_labels\\\":true,\\\"verbosity\\\":20,\\\"_debug_log\\\":\\\"azureml_automl.log\\\",\\\"show_warnings\\\":false,\\\"model_explainability\\\":true,\\\"service_url\\\":null,\\\"sdk_url\\\":null,\\\"sdk_packages\\\":null,\\\"enable_onnx_compatible_models\\\":false,\\\"enable_split_onnx_featurizer_estimator_models\\\":false,\\\"vm_type\\\":\\\"STANDARD_D2_V2\\\",\\\"telemetry_verbosity\\\":20,\\\"send_telemetry\\\":true,\\\"enable_dnn\\\":false,\\\"scenario\\\":\\\"SDK-1.13.0\\\",\\\"environment_label\\\":null,\\\"force_text_dnn\\\":false,\\\"enable_feature_sweeping\\\":true,\\\"enable_early_stopping\\\":true,\\\"early_stopping_n_iters\\\":10,\\\"metrics\\\":null,\\\"enable_ensembling\\\":true,\\\"enable_stack_ensembling\\\":true,\\\"ensemble_iterations\\\":15,\\\"enable_tf\\\":false,\\\"enable_subsampling\\\":null,\\\"subsample_seed\\\":null,\\\"enable_nimbusml\\\":false,\\\"enable_streaming\\\":false,\\\"force_streaming\\\":false,\\\"track_child_runs\\\":true,\\\"allowed_private_models\\\":[],\\\"label_column_name\\\":\\\"Outcome\\\",\\\"weight_column_name\\\":null,\\\"cv_split_column_names\\\":null,\\\"enable_local_managed\\\":false,\\\"_local_managed_run_id\\\":null,\\\"cost_mode\\\":1,\\\"lag_length\\\":0,\\\"metric_operation\\\":\\\"maximize\\\",\\\"preprocess\\\":true}\", \"DataPrepJsonString\": \"{\\\\\\\"training_data\\\\\\\": \\\\\\\"{\\\\\\\\\\\\\\\"blocks\\\\\\\\\\\\\\\": [{\\\\\\\\\\\\\\\"id\\\\\\\\\\\\\\\": \\\\\\\\\\\\\\\"4f0bae61-2090-481c-8eee-ede203b206c0\\\\\\\\\\\\\\\", \\\\\\\\\\\\\\\"type\\\\\\\\\\\\\\\": \\\\\\\\\\\\\\\"Microsoft.DPrep.GetFilesBlock\\\\\\\\\\\\\\\", \\\\\\\\\\\\\\\"arguments\\\\\\\\\\\\\\\": {\\\\\\\\\\\\\\\"isArchive\\\\\\\\\\\\\\\": false, \\\\\\\\\\\\\\\"path\\\\\\\\\\\\\\\": {\\\\\\\\\\\\\\\"target\\\\\\\\\\\\\\\": 4, \\\\\\\\\\\\\\\"resourceDetails\\\\\\\\\\\\\\\": [{\\\\\\\\\\\\\\\"path\\\\\\\\\\\\\\\": \\\\\\\\\\\\\\\"https://raw.githubusercontent.com/shubhrasachdev/AzureML-Nanodegree-Capstone/main/diabetes.csv\\\\\\\\\\\\\\\"}]}}, \\\\\\\\\\\\\\\"localData\\\\\\\\\\\\\\\": {}, \\\\\\\\\\\\\\\"isEnabled\\\\\\\\\\\\\\\": true, \\\\\\\\\\\\\\\"name\\\\\\\\\\\\\\\": null, \\\\\\\\\\\\\\\"annotation\\\\\\\\\\\\\\\": null}, {\\\\\\\\\\\\\\\"id\\\\\\\\\\\\\\\": \\\\\\\\\\\\\\\"8af4356a-51d4-4511-bbf2-674785e0a493\\\\\\\\\\\\\\\", \\\\\\\\\\\\\\\"type\\\\\\\\\\\\\\\": \\\\\\\\\\\\\\\"Microsoft.DPrep.ParseDelimitedBlock\\\\\\\\\\\\\\\", \\\\\\\\\\\\\\\"arguments\\\\\\\\\\\\\\\": {\\\\\\\\\\\\\\\"columnHeadersMode\\\\\\\\\\\\\\\": 3, \\\\\\\\\\\\\\\"fileEncoding\\\\\\\\\\\\\\\": 0, \\\\\\\\\\\\\\\"handleQuotedLineBreaks\\\\\\\\\\\\\\\": false, \\\\\\\\\\\\\\\"preview\\\\\\\\\\\\\\\": false, \\\\\\\\\\\\\\\"separator\\\\\\\\\\\\\\\": \\\\\\\\\\\\\\\",\\\\\\\\\\\\\\\", \\\\\\\\\\\\\\\"skipRows\\\\\\\\\\\\\\\": 0, \\\\\\\\\\\\\\\"skipRowsMode\\\\\\\\\\\\\\\": 0}, \\\\\\\\\\\\\\\"localData\\\\\\\\\\\\\\\": {}, \\\\\\\\\\\\\\\"isEnabled\\\\\\\\\\\\\\\": true, \\\\\\\\\\\\\\\"name\\\\\\\\\\\\\\\": null, \\\\\\\\\\\\\\\"annotation\\\\\\\\\\\\\\\": null}, {\\\\\\\\\\\\\\\"id\\\\\\\\\\\\\\\": \\\\\\\\\\\\\\\"7fe3b2e7-43b0-4754-a02c-40ef8a2cb7f6\\\\\\\\\\\\\\\", \\\\\\\\\\\\\\\"type\\\\\\\\\\\\\\\": \\\\\\\\\\\\\\\"Microsoft.DPrep.DropColumnsBlock\\\\\\\\\\\\\\\", \\\\\\\\\\\\\\\"arguments\\\\\\\\\\\\\\\": {\\\\\\\\\\\\\\\"columns\\\\\\\\\\\\\\\": {\\\\\\\\\\\\\\\"type\\\\\\\\\\\\\\\": 0, \\\\\\\\\\\\\\\"details\\\\\\\\\\\\\\\": {\\\\\\\\\\\\\\\"selectedColumns\\\\\\\\\\\\\\\": [\\\\\\\\\\\\\\\"Path\\\\\\\\\\\\\\\"]}}}, \\\\\\\\\\\\\\\"localData\\\\\\\\\\\\\\\": {}, \\\\\\\\\\\\\\\"isEnabled\\\\\\\\\\\\\\\": true, \\\\\\\\\\\\\\\"name\\\\\\\\\\\\\\\": null, \\\\\\\\\\\\\\\"annotation\\\\\\\\\\\\\\\": null}, {\\\\\\\\\\\\\\\"id\\\\\\\\\\\\\\\": \\\\\\\\\\\\\\\"4a662717-f33c-4d73-ad35-2153347dd9d1\\\\\\\\\\\\\\\", \\\\\\\\\\\\\\\"type\\\\\\\\\\\\\\\": \\\\\\\\\\\\\\\"Microsoft.DPrep.SetColumnTypesBlock\\\\\\\\\\\\\\\", \\\\\\\\\\\\\\\"arguments\\\\\\\\\\\\\\\": {\\\\\\\\\\\\\\\"columnConversion\\\\\\\\\\\\\\\": [{\\\\\\\\\\\\\\\"column\\\\\\\\\\\\\\\": {\\\\\\\\\\\\\\\"type\\\\\\\\\\\\\\\": 2, \\\\\\\\\\\\\\\"details\\\\\\\\\\\\\\\": {\\\\\\\\\\\\\\\"selectedColumn\\\\\\\\\\\\\\\": \\\\\\\\\\\\\\\"Pregnancies\\\\\\\\\\\\\\\"}}, \\\\\\\\\\\\\\\"typeProperty\\\\\\\\\\\\\\\": 2}, {\\\\\\\\\\\\\\\"column\\\\\\\\\\\\\\\": {\\\\\\\\\\\\\\\"type\\\\\\\\\\\\\\\": 2, \\\\\\\\\\\\\\\"details\\\\\\\\\\\\\\\": {\\\\\\\\\\\\\\\"selectedColumn\\\\\\\\\\\\\\\": \\\\\\\\\\\\\\\"Glucose\\\\\\\\\\\\\\\"}}, \\\\\\\\\\\\\\\"typeProperty\\\\\\\\\\\\\\\": 2}, {\\\\\\\\\\\\\\\"column\\\\\\\\\\\\\\\": {\\\\\\\\\\\\\\\"type\\\\\\\\\\\\\\\": 2, \\\\\\\\\\\\\\\"details\\\\\\\\\\\\\\\": {\\\\\\\\\\\\\\\"selectedColumn\\\\\\\\\\\\\\\": \\\\\\\\\\\\\\\"BloodPressure\\\\\\\\\\\\\\\"}}, \\\\\\\\\\\\\\\"typeProperty\\\\\\\\\\\\\\\": 2}, {\\\\\\\\\\\\\\\"column\\\\\\\\\\\\\\\": {\\\\\\\\\\\\\\\"type\\\\\\\\\\\\\\\": 2, \\\\\\\\\\\\\\\"details\\\\\\\\\\\\\\\": {\\\\\\\\\\\\\\\"selectedColumn\\\\\\\\\\\\\\\": \\\\\\\\\\\\\\\"SkinThickness\\\\\\\\\\\\\\\"}}, \\\\\\\\\\\\\\\"typeProperty\\\\\\\\\\\\\\\": 2}, {\\\\\\\\\\\\\\\"column\\\\\\\\\\\\\\\": {\\\\\\\\\\\\\\\"type\\\\\\\\\\\\\\\": 2, \\\\\\\\\\\\\\\"details\\\\\\\\\\\\\\\": {\\\\\\\\\\\\\\\"selectedColumn\\\\\\\\\\\\\\\": \\\\\\\\\\\\\\\"Insulin\\\\\\\\\\\\\\\"}}, \\\\\\\\\\\\\\\"typeProperty\\\\\\\\\\\\\\\": 2}, {\\\\\\\\\\\\\\\"column\\\\\\\\\\\\\\\": {\\\\\\\\\\\\\\\"type\\\\\\\\\\\\\\\": 2, \\\\\\\\\\\\\\\"details\\\\\\\\\\\\\\\": {\\\\\\\\\\\\\\\"selectedColumn\\\\\\\\\\\\\\\": \\\\\\\\\\\\\\\"BMI\\\\\\\\\\\\\\\"}}, \\\\\\\\\\\\\\\"typeProperty\\\\\\\\\\\\\\\": 3}, {\\\\\\\\\\\\\\\"column\\\\\\\\\\\\\\\": {\\\\\\\\\\\\\\\"type\\\\\\\\\\\\\\\": 2, \\\\\\\\\\\\\\\"details\\\\\\\\\\\\\\\": {\\\\\\\\\\\\\\\"selectedColumn\\\\\\\\\\\\\\\": \\\\\\\\\\\\\\\"DiabetesPedigreeFunction\\\\\\\\\\\\\\\"}}, \\\\\\\\\\\\\\\"typeProperty\\\\\\\\\\\\\\\": 3}, {\\\\\\\\\\\\\\\"column\\\\\\\\\\\\\\\": {\\\\\\\\\\\\\\\"type\\\\\\\\\\\\\\\": 2, \\\\\\\\\\\\\\\"details\\\\\\\\\\\\\\\": {\\\\\\\\\\\\\\\"selectedColumn\\\\\\\\\\\\\\\": \\\\\\\\\\\\\\\"Age\\\\\\\\\\\\\\\"}}, \\\\\\\\\\\\\\\"typeProperty\\\\\\\\\\\\\\\": 2}, {\\\\\\\\\\\\\\\"column\\\\\\\\\\\\\\\": {\\\\\\\\\\\\\\\"type\\\\\\\\\\\\\\\": 2, \\\\\\\\\\\\\\\"details\\\\\\\\\\\\\\\": {\\\\\\\\\\\\\\\"selectedColumn\\\\\\\\\\\\\\\": \\\\\\\\\\\\\\\"Outcome\\\\\\\\\\\\\\\"}}, \\\\\\\\\\\\\\\"typeProperty\\\\\\\\\\\\\\\": 2}]}, \\\\\\\\\\\\\\\"localData\\\\\\\\\\\\\\\": {}, \\\\\\\\\\\\\\\"isEnabled\\\\\\\\\\\\\\\": true, \\\\\\\\\\\\\\\"name\\\\\\\\\\\\\\\": null, \\\\\\\\\\\\\\\"annotation\\\\\\\\\\\\\\\": null}], \\\\\\\\\\\\\\\"inspectors\\\\\\\\\\\\\\\": [], \\\\\\\\\\\\\\\"meta\\\\\\\\\\\\\\\": {\\\\\\\\\\\\\\\"savedDatasetId\\\\\\\\\\\\\\\": \\\\\\\\\\\\\\\"7d29aaa6-8a31-41c3-800a-27b53b33101c\\\\\\\\\\\\\\\", \\\\\\\\\\\\\\\"datasetType\\\\\\\\\\\\\\\": \\\\\\\\\\\\\\\"tabular\\\\\\\\\\\\\\\", \\\\\\\\\\\\\\\"subscriptionId\\\\\\\\\\\\\\\": \\\\\\\\\\\\\\\"1b944a9b-fdae-4f97-aeb1-b7eea0beac53\\\\\\\\\\\\\\\", \\\\\\\\\\\\\\\"workspaceId\\\\\\\\\\\\\\\": \\\\\\\\\\\\\\\"d4af649c-6db0-4238-aff3-cbde26d28a86\\\\\\\\\\\\\\\", \\\\\\\\\\\\\\\"workspaceLocation\\\\\\\\\\\\\\\": \\\\\\\\\\\\\\\"southcentralus\\\\\\\\\\\\\\\"}}\\\\\\\", \\\\\\\"activities\\\\\\\": 0}\", \"EnableSubsampling\": null, \"runTemplate\": \"AutoML\", \"azureml.runsource\": \"automl\", \"display_task_type\": \"classification\", \"dependencies_versions\": \"{\\\"azureml-widgets\\\": \\\"1.20.0\\\", \\\"azureml-train\\\": \\\"1.20.0\\\", \\\"azureml-train-restclients-hyperdrive\\\": \\\"1.20.0\\\", \\\"azureml-train-core\\\": \\\"1.20.0\\\", \\\"azureml-train-automl\\\": \\\"1.20.0\\\", \\\"azureml-train-automl-runtime\\\": \\\"1.20.0\\\", \\\"azureml-train-automl-client\\\": \\\"1.20.0\\\", \\\"azureml-tensorboard\\\": \\\"1.20.0\\\", \\\"azureml-telemetry\\\": \\\"1.20.0\\\", \\\"azureml-sdk\\\": \\\"1.20.0\\\", \\\"azureml-samples\\\": \\\"0+unknown\\\", \\\"azureml-pipeline\\\": \\\"1.20.0\\\", \\\"azureml-pipeline-steps\\\": \\\"1.20.0\\\", \\\"azureml-pipeline-core\\\": \\\"1.20.0\\\", \\\"azureml-opendatasets\\\": \\\"1.20.0\\\", \\\"azureml-model-management-sdk\\\": \\\"1.0.1b6.post1\\\", \\\"azureml-mlflow\\\": \\\"1.20.0.post1\\\", \\\"azureml-interpret\\\": \\\"1.20.0\\\", \\\"azureml-explain-model\\\": \\\"1.20.0\\\", \\\"azureml-defaults\\\": \\\"1.20.0\\\", \\\"azureml-dataset-runtime\\\": \\\"1.20.0\\\", \\\"azureml-dataprep\\\": \\\"2.7.3\\\", \\\"azureml-dataprep-rslex\\\": \\\"1.5.0\\\", \\\"azureml-dataprep-native\\\": \\\"27.0.0\\\", \\\"azureml-datadrift\\\": \\\"1.20.0\\\", \\\"azureml-core\\\": \\\"1.20.0\\\", \\\"azureml-contrib-services\\\": \\\"1.20.0\\\", \\\"azureml-contrib-server\\\": \\\"1.20.0\\\", \\\"azureml-contrib-reinforcementlearning\\\": \\\"1.20.0\\\", \\\"azureml-contrib-pipeline-steps\\\": \\\"1.20.0\\\", \\\"azureml-contrib-notebook\\\": \\\"1.20.0\\\", \\\"azureml-contrib-interpret\\\": \\\"1.20.0\\\", \\\"azureml-contrib-gbdt\\\": \\\"1.20.0\\\", \\\"azureml-contrib-fairness\\\": \\\"1.20.0\\\", \\\"azureml-contrib-dataset\\\": \\\"1.20.0\\\", \\\"azureml-cli-common\\\": \\\"1.20.0\\\", \\\"azureml-automl-runtime\\\": \\\"1.20.0\\\", \\\"azureml-automl-core\\\": \\\"1.20.0\\\", \\\"azureml-accel-models\\\": \\\"1.20.0\\\"}\", \"_aml_system_scenario_identification\": \"Remote.Parent\", \"ClientType\": \"SDK\", \"environment_cpu_name\": \"AzureML-AutoML\", \"environment_cpu_label\": \"prod\", \"environment_gpu_name\": \"AzureML-AutoML-GPU\", \"environment_gpu_label\": \"prod\", \"root_attribution\": \"automl\", \"attribution\": \"AutoML\", \"Orchestrator\": \"AutoML\", \"CancelUri\": \"https://southcentralus.experiments.azureml.net/jasmine/v1.0/subscriptions/1b944a9b-fdae-4f97-aeb1-b7eea0beac53/resourceGroups/aml-quickstarts-138625/providers/Microsoft.MachineLearningServices/workspaces/quick-starts-ws-138625/experimentids/b2570f78-b542-4dd8-94c8-ea230363090f/cancel/AutoML_b582790a-3d9c-4cd7-a438-914f54928209\", \"azureml.git.repository_uri\": \"https://github.com/shubhrasachdev/AzureML-Nanodegree-Capstone.git\", \"mlflow.source.git.repoURL\": \"https://github.com/shubhrasachdev/AzureML-Nanodegree-Capstone.git\", \"azureml.git.branch\": \"main\", \"mlflow.source.git.branch\": \"main\", \"azureml.git.commit\": \"048016d83a64181c0f43ae17787ca3cf9be6a195\", \"mlflow.source.git.commit\": \"048016d83a64181c0f43ae17787ca3cf9be6a195\", \"ClientSdkVersion\": \"1.21.0\", \"snapshotId\": \"00000000-0000-0000-0000-000000000000\", \"SetupRunId\": \"AutoML_b582790a-3d9c-4cd7-a438-914f54928209_setup\", \"SetupRunContainerId\": \"dcid.AutoML_b582790a-3d9c-4cd7-a438-914f54928209_setup\", \"FeaturizationRunJsonPath\": \"featurizer_container.json\", \"FeaturizationRunId\": \"AutoML_b582790a-3d9c-4cd7-a438-914f54928209_featurize\", \"ProblemInfoJsonString\": \"{\\\"dataset_num_categorical\\\": 0, \\\"is_sparse\\\": true, \\\"subsampling\\\": false, \\\"dataset_classes\\\": 2, \\\"dataset_features\\\": 24, \\\"dataset_samples\\\": 768, \\\"single_frequency_class_detected\\\": false}\", \"ModelExplainRunId\": \"AutoML_b582790a-3d9c-4cd7-a438-914f54928209_ModelExplain\"}, \"tags\": {\"model_explain_run\": \"best_run\", \"_aml_system_azureml.automlComponent\": \"AutoML\", \"pipeline_id\": \"\", \"score\": \"\", \"predicted_cost\": \"\", \"fit_time\": \"\", \"training_percent\": \"\", \"iteration\": \"\", \"run_preprocessor\": \"\", \"run_algorithm\": \"\", \"dynamic_whitelisting_iterations\": \"<24>;<30>;<35>;\", \"automl_best_child_run_id\": \"AutoML_b582790a-3d9c-4cd7-a438-914f54928209_36\", \"model_explain_best_run_child_id\": \"AutoML_b582790a-3d9c-4cd7-a438-914f54928209_36\"}, \"end_time_utc\": \"2021-02-11T21:27:29.624548Z\", \"status\": \"Completed\", \"log_files\": {}, \"log_groups\": [], \"run_duration\": \"0:23:40\"}, \"child_runs\": [{\"run_id\": \"AutoML_b582790a-3d9c-4cd7-a438-914f54928209_2\", \"run_number\": 6, \"metric\": null, \"status\": \"Completed\", \"run_type\": \"azureml.scriptrun\", \"training_percent\": \"100\", \"start_time\": \"2021-02-11T21:11:05.456485Z\", \"end_time\": \"2021-02-11T21:12:06.901429Z\", \"created_time\": \"2021-02-11T21:09:51.021555Z\", \"created_time_dt\": \"2021-02-11T21:09:51.021555Z\", \"duration\": \"0:02:15\", \"iteration\": \"2\", \"goal\": \"accuracy_max\", \"run_name\": \"MaxAbsScaler, RandomForest\", \"run_properties\": \"copy=True\", \"primary_metric\": 0.7669298, \"best_metric\": 0.7669298}, {\"run_id\": \"AutoML_b582790a-3d9c-4cd7-a438-914f54928209_0\", \"run_number\": 7, \"metric\": null, \"status\": \"Completed\", \"run_type\": \"azureml.scriptrun\", \"training_percent\": \"100\", \"start_time\": \"2021-02-11T21:12:08.465829Z\", \"end_time\": \"2021-02-11T21:13:07.778689Z\", \"created_time\": \"2021-02-11T21:09:51.207039Z\", \"created_time_dt\": \"2021-02-11T21:09:51.207039Z\", \"duration\": \"0:03:16\", \"iteration\": \"0\", \"goal\": \"accuracy_max\", \"run_name\": \"MaxAbsScaler, LightGBM\", \"run_properties\": \"copy=True\", \"primary_metric\": 0.74352771, \"best_metric\": 0.74352771}, {\"run_id\": \"AutoML_b582790a-3d9c-4cd7-a438-914f54928209_3\", \"run_number\": 8, \"metric\": null, \"status\": \"Completed\", \"run_type\": \"azureml.scriptrun\", \"training_percent\": \"100\", \"start_time\": \"2021-02-11T21:10:02.690611Z\", \"end_time\": \"2021-02-11T21:10:59.748116Z\", \"created_time\": \"2021-02-11T21:09:51.308226Z\", \"created_time_dt\": \"2021-02-11T21:09:51.308226Z\", \"duration\": \"0:01:08\", \"iteration\": \"3\", \"goal\": \"accuracy_max\", \"run_name\": \"MaxAbsScaler, RandomForest\", \"run_properties\": \"copy=True\", \"primary_metric\": 0.74088787, \"best_metric\": 0.7669298}, {\"run_id\": \"AutoML_b582790a-3d9c-4cd7-a438-914f54928209_1\", \"run_number\": 9, \"metric\": null, \"status\": \"Completed\", \"run_type\": \"azureml.scriptrun\", \"training_percent\": \"100\", \"start_time\": \"2021-02-11T21:12:48.789383Z\", \"end_time\": \"2021-02-11T21:18:24.270151Z\", \"created_time\": \"2021-02-11T21:09:51.315537Z\", \"created_time_dt\": \"2021-02-11T21:09:51.315537Z\", \"duration\": \"0:08:32\", \"iteration\": \"1\", \"goal\": \"accuracy_max\", \"run_name\": \"MaxAbsScaler, XGBoostClassifier\", \"run_properties\": \"copy=True\", \"primary_metric\": 0.76563959, \"best_metric\": 0.76563959}, {\"run_id\": \"AutoML_b582790a-3d9c-4cd7-a438-914f54928209_4\", \"run_number\": 10, \"metric\": null, \"status\": \"Completed\", \"run_type\": \"azureml.scriptrun\", \"training_percent\": \"100\", \"start_time\": \"2021-02-11T21:12:47.038596Z\", \"end_time\": \"2021-02-11T21:18:10.73605Z\", \"created_time\": \"2021-02-11T21:11:03.45408Z\", \"created_time_dt\": \"2021-02-11T21:11:03.45408Z\", \"duration\": \"0:07:07\", \"iteration\": \"4\", \"goal\": \"accuracy_max\", \"run_name\": \"MaxAbsScaler, RandomForest\", \"run_properties\": \"copy=True\", \"primary_metric\": 0.75918852, \"best_metric\": 0.7669298}, {\"run_id\": \"AutoML_b582790a-3d9c-4cd7-a438-914f54928209_5\", \"run_number\": 11, \"metric\": null, \"status\": \"Completed\", \"run_type\": \"azureml.scriptrun\", \"training_percent\": \"100\", \"start_time\": \"2021-02-11T21:12:57.363334Z\", \"end_time\": \"2021-02-11T21:16:28.482282Z\", \"created_time\": \"2021-02-11T21:12:11.34934Z\", \"created_time_dt\": \"2021-02-11T21:12:11.34934Z\", \"duration\": \"0:04:17\", \"iteration\": \"5\", \"goal\": \"accuracy_max\", \"run_name\": \"MaxAbsScaler, RandomForest\", \"run_properties\": \"copy=True\", \"primary_metric\": 0.71880995, \"best_metric\": 0.7669298}, {\"run_id\": \"AutoML_b582790a-3d9c-4cd7-a438-914f54928209_6\", \"run_number\": 12, \"metric\": null, \"status\": \"Completed\", \"run_type\": \"azureml.scriptrun\", \"training_percent\": \"100\", \"start_time\": \"2021-02-11T21:13:25.343385Z\", \"end_time\": \"2021-02-11T21:14:20.400067Z\", \"created_time\": \"2021-02-11T21:13:11.316256Z\", \"created_time_dt\": \"2021-02-11T21:13:11.316256Z\", \"duration\": \"0:01:09\", \"iteration\": \"6\", \"goal\": \"accuracy_max\", \"run_name\": \"SparseNormalizer, XGBoostClassifier\", \"run_properties\": \"<azureml.automl.runtime.shared.model_wrappers.SparseNormalizer object at 0x7f628082be80\", \"primary_metric\": 0.71886088, \"best_metric\": 0.7669298}, {\"run_id\": \"AutoML_b582790a-3d9c-4cd7-a438-914f54928209_7\", \"run_number\": 13, \"metric\": null, \"status\": \"Completed\", \"run_type\": \"azureml.scriptrun\", \"training_percent\": \"100\", \"start_time\": \"2021-02-11T21:14:39.935367Z\", \"end_time\": \"2021-02-11T21:15:29.740111Z\", \"created_time\": \"2021-02-11T21:14:24.007394Z\", \"created_time_dt\": \"2021-02-11T21:14:24.007394Z\", \"duration\": \"0:01:05\", \"iteration\": \"7\", \"goal\": \"accuracy_max\", \"run_name\": \"MaxAbsScaler, LogisticRegression\", \"run_properties\": \"copy=True\", \"primary_metric\": 0.77477294, \"best_metric\": 0.77477294}, {\"run_id\": \"AutoML_b582790a-3d9c-4cd7-a438-914f54928209_8\", \"run_number\": 14, \"metric\": null, \"status\": \"Completed\", \"run_type\": \"azureml.scriptrun\", \"training_percent\": \"100\", \"start_time\": \"2021-02-11T21:15:47.053279Z\", \"end_time\": \"2021-02-11T21:16:41.911683Z\", \"created_time\": \"2021-02-11T21:15:33.279988Z\", \"created_time_dt\": \"2021-02-11T21:15:33.279988Z\", \"duration\": \"0:01:08\", \"iteration\": \"8\", \"goal\": \"accuracy_max\", \"run_name\": \"StandardScalerWrapper, RandomForest\", \"run_properties\": \"<azureml.automl.runtime.shared.model_wrappers.StandardScalerWrapper object at 0x7f82e4ebd0f0\", \"primary_metric\": 0.76049571, \"best_metric\": 0.77477294}, {\"run_id\": \"AutoML_b582790a-3d9c-4cd7-a438-914f54928209_9\", \"run_number\": 15, \"metric\": null, \"status\": \"Completed\", \"run_type\": \"azureml.scriptrun\", \"training_percent\": \"100\", \"start_time\": \"2021-02-11T21:16:42.165456Z\", \"end_time\": \"2021-02-11T21:17:40.01536Z\", \"created_time\": \"2021-02-11T21:16:31.216595Z\", \"created_time_dt\": \"2021-02-11T21:16:31.216595Z\", \"duration\": \"0:01:08\", \"iteration\": \"9\", \"goal\": \"accuracy_max\", \"run_name\": \"MaxAbsScaler, RandomForest\", \"run_properties\": \"copy=True\", \"primary_metric\": 0.76439182, \"best_metric\": 0.77477294}, {\"run_id\": \"AutoML_b582790a-3d9c-4cd7-a438-914f54928209_10\", \"run_number\": 16, \"metric\": null, \"status\": \"Completed\", \"run_type\": \"azureml.scriptrun\", \"training_percent\": \"100\", \"start_time\": \"2021-02-11T21:16:58.278804Z\", \"end_time\": \"2021-02-11T21:18:04.603574Z\", \"created_time\": \"2021-02-11T21:16:44.798826Z\", \"created_time_dt\": \"2021-02-11T21:16:44.798826Z\", \"duration\": \"0:01:19\", \"iteration\": \"10\", \"goal\": \"accuracy_max\", \"run_name\": \"MaxAbsScaler, ExtremeRandomTrees\", \"run_properties\": \"copy=True\", \"primary_metric\": 0.74094729, \"best_metric\": 0.77477294}, {\"run_id\": \"AutoML_b582790a-3d9c-4cd7-a438-914f54928209_11\", \"run_number\": 17, \"metric\": null, \"status\": \"Completed\", \"run_type\": \"azureml.scriptrun\", \"training_percent\": \"100\", \"start_time\": \"2021-02-11T21:17:56.853434Z\", \"end_time\": \"2021-02-11T21:19:02.805764Z\", \"created_time\": \"2021-02-11T21:17:42.752305Z\", \"created_time_dt\": \"2021-02-11T21:17:42.752305Z\", \"duration\": \"0:01:20\", \"iteration\": \"11\", \"goal\": \"accuracy_max\", \"run_name\": \"MaxAbsScaler, ExtremeRandomTrees\", \"run_properties\": \"copy=True\", \"primary_metric\": 0.76179441, \"best_metric\": 0.77477294}, {\"run_id\": \"AutoML_b582790a-3d9c-4cd7-a438-914f54928209_12\", \"run_number\": 18, \"metric\": null, \"status\": \"Completed\", \"run_type\": \"azureml.scriptrun\", \"training_percent\": \"100\", \"start_time\": \"2021-02-11T21:18:19.117235Z\", \"end_time\": \"2021-02-11T21:19:13.733176Z\", \"created_time\": \"2021-02-11T21:18:07.433513Z\", \"created_time_dt\": \"2021-02-11T21:18:07.433513Z\", \"duration\": \"0:01:06\", \"iteration\": \"12\", \"goal\": \"accuracy_max\", \"run_name\": \"MaxAbsScaler, LightGBM\", \"run_properties\": \"copy=True\", \"primary_metric\": 0.66939139, \"best_metric\": 0.77477294}, {\"run_id\": \"AutoML_b582790a-3d9c-4cd7-a438-914f54928209_13\", \"run_number\": 19, \"metric\": null, \"status\": \"Completed\", \"run_type\": \"azureml.scriptrun\", \"training_percent\": \"100\", \"start_time\": \"2021-02-11T21:18:25.995544Z\", \"end_time\": \"2021-02-11T21:19:27.438842Z\", \"created_time\": \"2021-02-11T21:18:13.312839Z\", \"created_time_dt\": \"2021-02-11T21:18:13.312839Z\", \"duration\": \"0:01:14\", \"iteration\": \"13\", \"goal\": \"accuracy_max\", \"run_name\": \"SparseNormalizer, XGBoostClassifier\", \"run_properties\": \"<azureml.automl.runtime.shared.model_wrappers.SparseNormalizer object at 0x7fae66f878d0\", \"primary_metric\": 0.71623801, \"best_metric\": 0.77477294}, {\"run_id\": \"AutoML_b582790a-3d9c-4cd7-a438-914f54928209_14\", \"run_number\": 20, \"metric\": null, \"status\": \"Completed\", \"run_type\": \"azureml.scriptrun\", \"training_percent\": \"100\", \"start_time\": \"2021-02-11T21:18:40.516289Z\", \"end_time\": \"2021-02-11T21:19:35.548367Z\", \"created_time\": \"2021-02-11T21:18:26.707935Z\", \"created_time_dt\": \"2021-02-11T21:18:26.707935Z\", \"duration\": \"0:01:08\", \"iteration\": \"14\", \"goal\": \"accuracy_max\", \"run_name\": \"SparseNormalizer, XGBoostClassifier\", \"run_properties\": \"<azureml.automl.runtime.shared.model_wrappers.SparseNormalizer object at 0x7f8052bb9080\", \"primary_metric\": 0.70845429, \"best_metric\": 0.77477294}, {\"run_id\": \"AutoML_b582790a-3d9c-4cd7-a438-914f54928209_15\", \"run_number\": 21, \"metric\": null, \"status\": \"Completed\", \"run_type\": \"azureml.scriptrun\", \"training_percent\": \"100\", \"start_time\": \"2021-02-11T21:19:16.947753Z\", \"end_time\": \"2021-02-11T21:20:13.852279Z\", \"created_time\": \"2021-02-11T21:19:05.357708Z\", \"created_time_dt\": \"2021-02-11T21:19:05.357708Z\", \"duration\": \"0:01:08\", \"iteration\": \"15\", \"goal\": \"accuracy_max\", \"run_name\": \"SparseNormalizer, XGBoostClassifier\", \"run_properties\": \"<azureml.automl.runtime.shared.model_wrappers.SparseNormalizer object at 0x7f20f5c8c240\", \"primary_metric\": 0.7031746, \"best_metric\": 0.77477294}, {\"run_id\": \"AutoML_b582790a-3d9c-4cd7-a438-914f54928209_16\", \"run_number\": 22, \"metric\": null, \"status\": \"Completed\", \"run_type\": \"azureml.scriptrun\", \"training_percent\": \"100\", \"start_time\": \"2021-02-11T21:19:27.816204Z\", \"end_time\": \"2021-02-11T21:20:21.347032Z\", \"created_time\": \"2021-02-11T21:19:15.920538Z\", \"created_time_dt\": \"2021-02-11T21:19:15.920538Z\", \"duration\": \"0:01:05\", \"iteration\": \"16\", \"goal\": \"accuracy_max\", \"run_name\": \"SparseNormalizer, XGBoostClassifier\", \"run_properties\": \"<azureml.automl.runtime.shared.model_wrappers.SparseNormalizer object at 0x7f59c850af60\", \"primary_metric\": 0.70194381, \"best_metric\": 0.77477294}, {\"run_id\": \"AutoML_b582790a-3d9c-4cd7-a438-914f54928209_17\", \"run_number\": 23, \"metric\": null, \"status\": \"Completed\", \"run_type\": \"azureml.scriptrun\", \"training_percent\": \"100\", \"start_time\": \"2021-02-11T21:19:41.108653Z\", \"end_time\": \"2021-02-11T21:20:32.069292Z\", \"created_time\": \"2021-02-11T21:19:29.993992Z\", \"created_time_dt\": \"2021-02-11T21:19:29.993992Z\", \"duration\": \"0:01:02\", \"iteration\": \"17\", \"goal\": \"accuracy_max\", \"run_name\": \"MaxAbsScaler, LogisticRegression\", \"run_properties\": \"copy=True\", \"primary_metric\": 0.76826246, \"best_metric\": 0.77477294}, {\"run_id\": \"AutoML_b582790a-3d9c-4cd7-a438-914f54928209_18\", \"run_number\": 24, \"metric\": null, \"status\": \"Completed\", \"run_type\": \"azureml.scriptrun\", \"training_percent\": \"100\", \"start_time\": \"2021-02-11T21:19:49.467927Z\", \"end_time\": \"2021-02-11T21:20:37.202356Z\", \"created_time\": \"2021-02-11T21:19:38.179283Z\", \"created_time_dt\": \"2021-02-11T21:19:38.179283Z\", \"duration\": \"0:00:59\", \"iteration\": \"18\", \"goal\": \"accuracy_max\", \"run_name\": \"SparseNormalizer, LightGBM\", \"run_properties\": \"<azureml.automl.runtime.shared.model_wrappers.SparseNormalizer object at 0x7fe24895cb38\", \"primary_metric\": 0.65243188, \"best_metric\": 0.77477294}, {\"run_id\": \"AutoML_b582790a-3d9c-4cd7-a438-914f54928209_19\", \"run_number\": 25, \"metric\": null, \"status\": \"Completed\", \"run_type\": \"azureml.scriptrun\", \"training_percent\": \"100\", \"start_time\": \"2021-02-11T21:20:30.664209Z\", \"end_time\": \"2021-02-11T21:21:32.17678Z\", \"created_time\": \"2021-02-11T21:20:16.27048Z\", \"created_time_dt\": \"2021-02-11T21:20:16.27048Z\", \"duration\": \"0:01:15\", \"iteration\": \"19\", \"goal\": \"accuracy_max\", \"run_name\": \"SparseNormalizer, ExtremeRandomTrees\", \"run_properties\": \"<azureml.automl.runtime.shared.model_wrappers.SparseNormalizer object at 0x7f27286bb630\", \"primary_metric\": 0.66545285, \"best_metric\": 0.77477294}, {\"run_id\": \"AutoML_b582790a-3d9c-4cd7-a438-914f54928209_20\", \"run_number\": 26, \"metric\": null, \"status\": \"Completed\", \"run_type\": \"azureml.scriptrun\", \"training_percent\": \"100\", \"start_time\": \"2021-02-11T21:20:38.063885Z\", \"end_time\": \"2021-02-11T21:21:36.565919Z\", \"created_time\": \"2021-02-11T21:20:23.954974Z\", \"created_time_dt\": \"2021-02-11T21:20:23.954974Z\", \"duration\": \"0:01:12\", \"iteration\": \"20\", \"goal\": \"accuracy_max\", \"run_name\": \"TruncatedSVDWrapper, XGBoostClassifier\", \"run_properties\": \"n_components=0.6036842105263158, random_state=None\", \"primary_metric\": 0.74226297, \"best_metric\": 0.77477294}, {\"run_id\": \"AutoML_b582790a-3d9c-4cd7-a438-914f54928209_21\", \"run_number\": 27, \"metric\": null, \"status\": \"Completed\", \"run_type\": \"azureml.scriptrun\", \"training_percent\": \"100\", \"start_time\": \"2021-02-11T21:20:47.045836Z\", \"end_time\": \"2021-02-11T21:21:36.087622Z\", \"created_time\": \"2021-02-11T21:20:34.477333Z\", \"created_time_dt\": \"2021-02-11T21:20:34.477333Z\", \"duration\": \"0:01:01\", \"iteration\": \"21\", \"goal\": \"accuracy_max\", \"run_name\": \"StandardScalerWrapper, LightGBM\", \"run_properties\": \"<azureml.automl.runtime.shared.model_wrappers.StandardScalerWrapper object at 0x7fa7d435cac8\", \"primary_metric\": 0.77088532, \"best_metric\": 0.77477294}, {\"run_id\": \"AutoML_b582790a-3d9c-4cd7-a438-914f54928209_22\", \"run_number\": 28, \"metric\": null, \"status\": \"Completed\", \"run_type\": \"azureml.scriptrun\", \"training_percent\": \"100\", \"start_time\": \"2021-02-11T21:20:50.522709Z\", \"end_time\": \"2021-02-11T21:21:38.597506Z\", \"created_time\": \"2021-02-11T21:20:39.989187Z\", \"created_time_dt\": \"2021-02-11T21:20:39.989187Z\", \"duration\": \"0:00:58\", \"iteration\": \"22\", \"goal\": \"accuracy_max\", \"run_name\": \"MaxAbsScaler, LightGBM\", \"run_properties\": \"copy=True\", \"primary_metric\": 0.76438333, \"best_metric\": 0.77477294}, {\"run_id\": \"AutoML_b582790a-3d9c-4cd7-a438-914f54928209_23\", \"run_number\": 29, \"metric\": null, \"status\": \"Completed\", \"run_type\": \"azureml.scriptrun\", \"training_percent\": \"100\", \"start_time\": \"2021-02-11T21:21:47.572892Z\", \"end_time\": \"2021-02-11T21:22:47.314879Z\", \"created_time\": \"2021-02-11T21:21:34.647791Z\", \"created_time_dt\": \"2021-02-11T21:21:34.647791Z\", \"duration\": \"0:01:12\", \"iteration\": \"23\", \"goal\": \"accuracy_max\", \"run_name\": \"SparseNormalizer, XGBoostClassifier\", \"run_properties\": \"<azureml.automl.runtime.shared.model_wrappers.SparseNormalizer object at 0x7f73fc3624e0\", \"primary_metric\": 0.70581445, \"best_metric\": 0.77477294}, {\"run_id\": \"AutoML_b582790a-3d9c-4cd7-a438-914f54928209_24\", \"run_number\": 30, \"metric\": null, \"status\": \"Completed\", \"run_type\": \"azureml.scriptrun\", \"training_percent\": \"100\", \"start_time\": \"2021-02-11T21:21:53.781051Z\", \"end_time\": \"2021-02-11T21:22:50.121136Z\", \"created_time\": \"2021-02-11T21:21:39.978089Z\", \"created_time_dt\": \"2021-02-11T21:21:39.978089Z\", \"duration\": \"0:01:10\", \"iteration\": \"24\", \"goal\": \"accuracy_max\", \"run_name\": \"StandardScalerWrapper, LogisticRegression\", \"run_properties\": \"<azureml.automl.runtime.shared.model_wrappers.StandardScalerWrapper object at 0x7f6ab9ce44e0\", \"primary_metric\": 0.76568203, \"best_metric\": 0.77477294}, {\"run_id\": \"AutoML_b582790a-3d9c-4cd7-a438-914f54928209_25\", \"run_number\": 31, \"metric\": null, \"status\": \"Completed\", \"run_type\": \"azureml.scriptrun\", \"training_percent\": \"100\", \"start_time\": \"2021-02-11T21:21:53.505277Z\", \"end_time\": \"2021-02-11T21:22:42.950669Z\", \"created_time\": \"2021-02-11T21:21:40.11819Z\", \"created_time_dt\": \"2021-02-11T21:21:40.11819Z\", \"duration\": \"0:01:02\", \"iteration\": \"25\", \"goal\": \"accuracy_max\", \"run_name\": \"StandardScalerWrapper, XGBoostClassifier\", \"run_properties\": \"<azureml.automl.runtime.shared.model_wrappers.StandardScalerWrapper object at 0x7f723c9f7668\", \"primary_metric\": 0.75654019, \"best_metric\": 0.77477294}, {\"run_id\": \"AutoML_b582790a-3d9c-4cd7-a438-914f54928209_26\", \"run_number\": 32, \"metric\": null, \"status\": \"Completed\", \"run_type\": \"azureml.scriptrun\", \"training_percent\": \"100\", \"start_time\": \"2021-02-11T21:21:57.473656Z\", \"end_time\": \"2021-02-11T21:22:44.572904Z\", \"created_time\": \"2021-02-11T21:21:45.020502Z\", \"created_time_dt\": \"2021-02-11T21:21:45.020502Z\", \"duration\": \"0:00:59\", \"iteration\": \"26\", \"goal\": \"accuracy_max\", \"run_name\": \"TruncatedSVDWrapper, XGBoostClassifier\", \"run_properties\": \"n_components=0.8510526315789474, random_state=None\", \"primary_metric\": 0.75789831, \"best_metric\": 0.77477294}, {\"run_id\": \"AutoML_b582790a-3d9c-4cd7-a438-914f54928209_27\", \"run_number\": 33, \"metric\": null, \"status\": \"Completed\", \"run_type\": \"azureml.scriptrun\", \"training_percent\": \"100\", \"start_time\": \"2021-02-11T21:22:58.513327Z\", \"end_time\": \"2021-02-11T21:24:06.068428Z\", \"created_time\": \"2021-02-11T21:22:45.805392Z\", \"created_time_dt\": \"2021-02-11T21:22:45.805392Z\", \"duration\": \"0:01:20\", \"iteration\": \"27\", \"goal\": \"accuracy_max\", \"run_name\": \"MaxAbsScaler, RandomForest\", \"run_properties\": \"copy=True\", \"primary_metric\": 0.76178593, \"best_metric\": 0.77477294}, {\"run_id\": \"AutoML_b582790a-3d9c-4cd7-a438-914f54928209_28\", \"run_number\": 34, \"metric\": null, \"status\": \"Completed\", \"run_type\": \"azureml.scriptrun\", \"training_percent\": \"100\", \"start_time\": \"2021-02-11T21:23:01.520567Z\", \"end_time\": \"2021-02-11T21:23:51.089716Z\", \"created_time\": \"2021-02-11T21:22:50.406463Z\", \"created_time_dt\": \"2021-02-11T21:22:50.406463Z\", \"duration\": \"0:01:00\", \"iteration\": \"28\", \"goal\": \"accuracy_max\", \"run_name\": \"MaxAbsScaler, LightGBM\", \"run_properties\": \"copy=True\", \"primary_metric\": 0.74879043, \"best_metric\": 0.77477294}, {\"run_id\": \"AutoML_b582790a-3d9c-4cd7-a438-914f54928209_29\", \"run_number\": 35, \"metric\": null, \"status\": \"Completed\", \"run_type\": \"azureml.scriptrun\", \"training_percent\": \"100\", \"start_time\": \"2021-02-11T21:23:01.821294Z\", \"end_time\": \"2021-02-11T21:23:55.491676Z\", \"created_time\": \"2021-02-11T21:22:50.56477Z\", \"created_time_dt\": \"2021-02-11T21:22:50.56477Z\", \"duration\": \"0:01:04\", \"iteration\": \"29\", \"goal\": \"accuracy_max\", \"run_name\": \"StandardScalerWrapper, XGBoostClassifier\", \"run_properties\": \"<azureml.automl.runtime.shared.model_wrappers.StandardScalerWrapper object at 0x7fdb3b3bad68\", \"primary_metric\": 0.76045327, \"best_metric\": 0.77477294}, {\"run_id\": \"AutoML_b582790a-3d9c-4cd7-a438-914f54928209_30\", \"run_number\": 36, \"metric\": null, \"status\": \"Completed\", \"run_type\": \"azureml.scriptrun\", \"training_percent\": \"100\", \"start_time\": \"2021-02-11T21:23:05.619027Z\", \"end_time\": \"2021-02-11T21:23:56.672165Z\", \"created_time\": \"2021-02-11T21:22:55.598538Z\", \"created_time_dt\": \"2021-02-11T21:22:55.598538Z\", \"duration\": \"0:01:01\", \"iteration\": \"30\", \"goal\": \"accuracy_max\", \"run_name\": \"SparseNormalizer, LogisticRegression\", \"run_properties\": \"<azureml.automl.runtime.shared.model_wrappers.SparseNormalizer object at 0x7fd736b5f0b8\", \"primary_metric\": 0.65114167, \"best_metric\": 0.77477294}, {\"run_id\": \"AutoML_b582790a-3d9c-4cd7-a438-914f54928209_31\", \"run_number\": 37, \"metric\": null, \"status\": \"Completed\", \"run_type\": \"azureml.scriptrun\", \"training_percent\": \"100\", \"start_time\": \"2021-02-11T21:24:05.012251Z\", \"end_time\": \"2021-02-11T21:24:59.198048Z\", \"created_time\": \"2021-02-11T21:23:53.187872Z\", \"created_time_dt\": \"2021-02-11T21:23:53.187872Z\", \"duration\": \"0:01:06\", \"iteration\": \"31\", \"goal\": \"accuracy_max\", \"run_name\": \"MaxAbsScaler, LightGBM\", \"run_properties\": \"copy=True\", \"primary_metric\": 0.75530091, \"best_metric\": 0.77477294}, {\"run_id\": \"AutoML_b582790a-3d9c-4cd7-a438-914f54928209_32\", \"run_number\": 38, \"metric\": null, \"status\": \"Completed\", \"run_type\": \"azureml.scriptrun\", \"training_percent\": \"100\", \"start_time\": \"2021-02-11T21:24:09.031548Z\", \"end_time\": \"2021-02-11T21:25:03.199031Z\", \"created_time\": \"2021-02-11T21:23:57.438494Z\", \"created_time_dt\": \"2021-02-11T21:23:57.438494Z\", \"duration\": \"0:01:05\", \"iteration\": \"32\", \"goal\": \"accuracy_max\", \"run_name\": \"SparseNormalizer, LightGBM\", \"run_properties\": \"<azureml.automl.runtime.shared.model_wrappers.SparseNormalizer object at 0x7faf191eacc0\", \"primary_metric\": 0.6810118, \"best_metric\": 0.77477294}, {\"run_id\": \"AutoML_b582790a-3d9c-4cd7-a438-914f54928209_33\", \"run_number\": 39, \"metric\": null, \"status\": \"Canceled\", \"run_type\": \"azureml.scriptrun\", \"training_percent\": \"100\", \"start_time\": \"2021-02-11T21:24:14.034511Z\", \"end_time\": \"2021-02-11T21:25:09.414903Z\", \"created_time\": \"2021-02-11T21:24:01.199597Z\", \"created_time_dt\": \"2021-02-11T21:24:01.199597Z\", \"duration\": \"0:01:08\", \"iteration\": \"33\", \"goal\": \"accuracy_max\", \"run_name\": \"MaxAbsScaler, RandomForest\", \"run_properties\": \"copy=True\", \"primary_metric\": 0.74217808, \"best_metric\": 0.77477294}, {\"run_id\": \"AutoML_b582790a-3d9c-4cd7-a438-914f54928209_34\", \"run_number\": 40, \"metric\": null, \"status\": \"Completed\", \"run_type\": \"azureml.scriptrun\", \"training_percent\": \"100\", \"start_time\": \"2021-02-11T21:24:19.897815Z\", \"end_time\": \"2021-02-11T21:25:05.733362Z\", \"created_time\": \"2021-02-11T21:24:08.537181Z\", \"created_time_dt\": \"2021-02-11T21:24:08.537181Z\", \"duration\": \"0:00:57\", \"iteration\": \"34\", \"goal\": \"accuracy_max\", \"run_name\": \"SparseNormalizer, LightGBM\", \"run_properties\": \"<azureml.automl.runtime.shared.model_wrappers.SparseNormalizer object at 0x7f4becf21f98\", \"primary_metric\": 0.6953824, \"best_metric\": 0.77477294}, {\"run_id\": \"AutoML_b582790a-3d9c-4cd7-a438-914f54928209_35\", \"run_number\": 41, \"metric\": null, \"status\": \"Canceled\", \"run_type\": \"azureml.scriptrun\", \"training_percent\": \"100\", \"start_time\": \"2021-02-11T21:25:02.454496Z\", \"end_time\": \"2021-02-11T21:25:19.47411Z\", \"created_time\": \"2021-02-11T21:25:02.454496Z\", \"created_time_dt\": \"2021-02-11T21:25:02.454496Z\", \"duration\": \"0:00:17\", \"iteration\": \"35\", \"goal\": null, \"run_name\": \"Canceled\", \"run_properties\": null}, {\"run_id\": \"AutoML_b582790a-3d9c-4cd7-a438-914f54928209_36\", \"run_number\": 42, \"metric\": null, \"status\": \"Completed\", \"run_type\": \"azureml.scriptrun\", \"training_percent\": \"100\", \"start_time\": \"2021-02-11T21:25:35.149601Z\", \"end_time\": \"2021-02-11T21:27:22.570043Z\", \"created_time\": \"2021-02-11T21:25:21.026453Z\", \"created_time_dt\": \"2021-02-11T21:25:21.026453Z\", \"duration\": \"0:02:01\", \"iteration\": \"36\", \"goal\": \"accuracy_max\", \"run_name\": \"VotingEnsemble\", \"run_properties\": \"classification_labels=None,\\n                              estimators=[('7',\\n                                           Pipeline(memory=None,\\n                                                    steps=[('maxabsscaler',\\n                                                            MaxAbsScaler(copy=True\", \"primary_metric\": 0.78912656, \"best_metric\": 0.78912656}, {\"run_id\": \"AutoML_b582790a-3d9c-4cd7-a438-914f54928209_37\", \"run_number\": 43, \"metric\": null, \"status\": \"Completed\", \"run_type\": \"azureml.scriptrun\", \"training_percent\": \"100\", \"start_time\": \"2021-02-11T21:25:31.803593Z\", \"end_time\": \"2021-02-11T21:27:22.10094Z\", \"created_time\": \"2021-02-11T21:25:21.034387Z\", \"created_time_dt\": \"2021-02-11T21:25:21.034387Z\", \"duration\": \"0:02:01\", \"iteration\": \"37\", \"goal\": \"accuracy_max\", \"run_name\": \"StackEnsemble\", \"run_properties\": \"base_learners=[('7',\\n                                        Pipeline(memory=None,\\n                                                 steps=[('maxabsscaler',\\n                                                         MaxAbsScaler(copy=True\", \"primary_metric\": 0.77871997, \"best_metric\": 0.78912656}], \"children_metrics\": {\"categories\": [0], \"series\": {\"weighted_accuracy\": [{\"categories\": [\"0\", \"1\", \"2\", \"3\", \"4\", \"5\", \"6\", \"7\", \"8\", \"9\", \"10\", \"11\", \"12\", \"13\", \"14\", \"15\", \"16\", \"17\", \"18\", \"19\", \"20\", \"21\", \"22\", \"23\", \"24\", \"25\", \"26\", \"27\", \"28\", \"29\", \"30\", \"31\", \"32\", \"33\", \"34\", \"36\", \"37\"], \"mode\": \"markers\", \"name\": \"weighted_accuracy\", \"stepped\": false, \"type\": \"scatter\", \"data\": [0.7692349431628938, 0.7906595742312594, 0.8146979141148913, 0.7905477404646455, 0.762725309544638, 0.7146149312359298, 0.7611297202652938, 0.8164219297427188, 0.8040868302249828, 0.8012141982848879, 0.8089645718089603, 0.8185712873618091, 0.7750130883127709, 0.7767997953996238, 0.7596914499686102, 0.7572003252764629, 0.7461546222020197, 0.8117980132034847, 0.7640251286986818, 0.762501038328921, 0.7772864011860661, 0.8000855129447126, 0.8113451596871556, 0.741704587692557, 0.805388694328008, 0.7993151939702274, 0.7934349953233092, 0.7996595196176723, 0.82073325764456, 0.7998788305627748, 0.7698004941684061, 0.8147341713999182, 0.7528204364266742, 0.7359031457401363, 0.744658032459134, 0.8259255419240402, 0.8108080639165707]}, {\"categories\": [\"0\", \"1\", \"2\", \"3\", \"4\", \"5\", \"6\", \"7\", \"8\", \"9\", \"10\", \"11\", \"12\", \"13\", \"14\", \"15\", \"16\", \"17\", \"18\", \"19\", \"20\", \"21\", \"22\", \"23\", \"24\", \"25\", \"26\", \"27\", \"28\", \"29\", \"30\", \"31\", \"32\", \"33\", \"34\", \"36\", \"37\"], \"mode\": \"lines\", \"name\": \"weighted_accuracy_max\", \"stepped\": true, \"type\": \"scatter\", \"data\": [0.7692349431628938, 0.7906595742312594, 0.8146979141148913, 0.8146979141148913, 0.8146979141148913, 0.8146979141148913, 0.8146979141148913, 0.8164219297427188, 0.8164219297427188, 0.8164219297427188, 0.8164219297427188, 0.8185712873618091, 0.8185712873618091, 0.8185712873618091, 0.8185712873618091, 0.8185712873618091, 0.8185712873618091, 0.8185712873618091, 0.8185712873618091, 0.8185712873618091, 0.8185712873618091, 0.8185712873618091, 0.8185712873618091, 0.8185712873618091, 0.8185712873618091, 0.8185712873618091, 0.8185712873618091, 0.8185712873618091, 0.82073325764456, 0.82073325764456, 0.82073325764456, 0.82073325764456, 0.82073325764456, 0.82073325764456, 0.82073325764456, 0.8259255419240402, 0.8259255419240402]}], \"norm_macro_recall\": [{\"categories\": [\"0\", \"1\", \"2\", \"3\", \"4\", \"5\", \"6\", \"7\", \"8\", \"9\", \"10\", \"11\", \"12\", \"13\", \"14\", \"15\", \"16\", \"17\", \"18\", \"19\", \"20\", \"21\", \"22\", \"23\", \"24\", \"25\", \"26\", \"27\", \"28\", \"29\", \"30\", \"31\", \"32\", \"33\", \"34\", \"36\", \"37\"], \"mode\": \"markers\", \"name\": \"norm_macro_recall\", \"stepped\": false, \"type\": \"scatter\", \"data\": [0.420946354852849, 0.4667111240616652, 0.40958831975763293, 0.35962025678753406, 0.5078293489362838, 0.447966014136972, 0.33191911840507854, 0.44360361974568063, 0.41108705548643865, 0.43298815063649154, 0.3100677026130384, 0.37924216167508373, 0.07357759864856295, 0.2777890206506097, 0.2882712492017203, 0.271364513746149, 0.2899414764822617, 0.4263174121899708, 0.025301937875297664, 0.08850208084937852, 0.39652921527548407, 0.4654846580309947, 0.40787363583268715, 0.3216143880693963, 0.4294190630089568, 0.40405900631125935, 0.4227645263643187, 0.42618621844523863, 0.3144617893177972, 0.4203176449446634, 0.0, 0.3593570355813191, 0.18009992432282465, 0.501032899425781, 0.26783254419277647, 0.4841366190982866, 0.4754114182395231]}, {\"categories\": [\"0\", \"1\", \"2\", \"3\", \"4\", \"5\", \"6\", \"7\", \"8\", \"9\", \"10\", \"11\", \"12\", \"13\", \"14\", \"15\", \"16\", \"17\", \"18\", \"19\", \"20\", \"21\", \"22\", \"23\", \"24\", \"25\", \"26\", \"27\", \"28\", \"29\", \"30\", \"31\", \"32\", \"33\", \"34\", \"36\", \"37\"], \"mode\": \"lines\", \"name\": \"norm_macro_recall_max\", \"stepped\": true, \"type\": \"scatter\", \"data\": [0.420946354852849, 0.4667111240616652, 0.4667111240616652, 0.4667111240616652, 0.5078293489362838, 0.5078293489362838, 0.5078293489362838, 0.5078293489362838, 0.5078293489362838, 0.5078293489362838, 0.5078293489362838, 0.5078293489362838, 0.5078293489362838, 0.5078293489362838, 0.5078293489362838, 0.5078293489362838, 0.5078293489362838, 0.5078293489362838, 0.5078293489362838, 0.5078293489362838, 0.5078293489362838, 0.5078293489362838, 0.5078293489362838, 0.5078293489362838, 0.5078293489362838, 0.5078293489362838, 0.5078293489362838, 0.5078293489362838, 0.5078293489362838, 0.5078293489362838, 0.5078293489362838, 0.5078293489362838, 0.5078293489362838, 0.5078293489362838, 0.5078293489362838, 0.5078293489362838, 0.5078293489362838]}], \"recall_score_micro\": [{\"categories\": [\"0\", \"1\", \"2\", \"3\", \"4\", \"5\", \"6\", \"7\", \"8\", \"9\", \"10\", \"11\", \"12\", \"13\", \"14\", \"15\", \"16\", \"17\", \"18\", \"19\", \"20\", \"21\", \"22\", \"23\", \"24\", \"25\", \"26\", \"27\", \"28\", \"29\", \"30\", \"31\", \"32\", \"33\", \"34\", \"36\", \"37\"], \"mode\": \"markers\", \"name\": \"recall_score_micro\", \"stepped\": false, \"type\": \"scatter\", \"data\": [0.7435277141159494, 0.7656395891690009, 0.7669298022239198, 0.7408878702996351, 0.7591885238944063, 0.718809948221713, 0.718860877684407, 0.7747729394788218, 0.7604957134368899, 0.7643918173329938, 0.7409472880061114, 0.7617944147355912, 0.6693913929208046, 0.7162380103556574, 0.708454290807232, 0.7031746031746031, 0.7019438078261608, 0.7682624564977505, 0.6524318818436465, 0.665452847805789, 0.7422629657923775, 0.7708853238265002, 0.7643833290892115, 0.7058144469909176, 0.7656820303879127, 0.7565401918343095, 0.7578983108394872, 0.7617859264918089, 0.7487904252610134, 0.7604532722179782, 0.6511416687887276, 0.7553009082420846, 0.6810117986588575, 0.742178083354554, 0.6953823953823954, 0.789126559714795, 0.7787199728376197]}, {\"categories\": [\"0\", \"1\", \"2\", \"3\", \"4\", \"5\", \"6\", \"7\", \"8\", \"9\", \"10\", \"11\", \"12\", \"13\", \"14\", \"15\", \"16\", \"17\", \"18\", \"19\", \"20\", \"21\", \"22\", \"23\", \"24\", \"25\", \"26\", \"27\", \"28\", \"29\", \"30\", \"31\", \"32\", \"33\", \"34\", \"36\", \"37\"], \"mode\": \"lines\", \"name\": \"recall_score_micro_max\", \"stepped\": true, \"type\": \"scatter\", \"data\": [0.7435277141159494, 0.7656395891690009, 0.7669298022239198, 0.7669298022239198, 0.7669298022239198, 0.7669298022239198, 0.7669298022239198, 0.7747729394788218, 0.7747729394788218, 0.7747729394788218, 0.7747729394788218, 0.7747729394788218, 0.7747729394788218, 0.7747729394788218, 0.7747729394788218, 0.7747729394788218, 0.7747729394788218, 0.7747729394788218, 0.7747729394788218, 0.7747729394788218, 0.7747729394788218, 0.7747729394788218, 0.7747729394788218, 0.7747729394788218, 0.7747729394788218, 0.7747729394788218, 0.7747729394788218, 0.7747729394788218, 0.7747729394788218, 0.7747729394788218, 0.7747729394788218, 0.7747729394788218, 0.7747729394788218, 0.7747729394788218, 0.7747729394788218, 0.789126559714795, 0.789126559714795]}], \"average_precision_score_micro\": [{\"categories\": [\"0\", \"1\", \"2\", \"3\", \"4\", \"5\", \"6\", \"7\", \"8\", \"9\", \"10\", \"11\", \"12\", \"13\", \"14\", \"15\", \"16\", \"17\", \"18\", \"19\", \"20\", \"21\", \"22\", \"23\", \"24\", \"25\", \"26\", \"27\", \"28\", \"29\", \"30\", \"31\", \"32\", \"33\", \"34\", \"36\", \"37\"], \"mode\": \"markers\", \"name\": \"average_precision_score_micro\", \"stepped\": false, \"type\": \"scatter\", \"data\": [0.8327853787564277, 0.8532463783590838, 0.8399030165724424, 0.8323479846829137, 0.8422666699961932, 0.7972842103238215, 0.8035091285138671, 0.835748337649737, 0.8498345747198257, 0.8493786438820038, 0.8281625984473597, 0.8448140329713079, 0.8142372502273527, 0.7731075737838937, 0.7884748594104, 0.7676040481382049, 0.7609864843331765, 0.8310105702492996, 0.739776396775863, 0.7591125953603406, 0.8209299850189329, 0.8533504616868628, 0.8504673786357577, 0.7793611799153677, 0.8373768822452007, 0.8457790452820738, 0.8380498616339536, 0.8498849178981336, 0.8251480723834907, 0.8331735626703891, 0.7128693358048024, 0.8394200751106012, 0.7646190270971873, 0.8262874099958466, 0.7588723797717898, 0.8629228961321662, 0.8604680009132583]}, {\"categories\": [\"0\", \"1\", \"2\", \"3\", \"4\", \"5\", \"6\", \"7\", \"8\", \"9\", \"10\", \"11\", \"12\", \"13\", \"14\", \"15\", \"16\", \"17\", \"18\", \"19\", \"20\", \"21\", \"22\", \"23\", \"24\", \"25\", \"26\", \"27\", \"28\", \"29\", \"30\", \"31\", \"32\", \"33\", \"34\", \"36\", \"37\"], \"mode\": \"lines\", \"name\": \"average_precision_score_micro_max\", \"stepped\": true, \"type\": \"scatter\", \"data\": [0.8327853787564277, 0.8532463783590838, 0.8532463783590838, 0.8532463783590838, 0.8532463783590838, 0.8532463783590838, 0.8532463783590838, 0.8532463783590838, 0.8532463783590838, 0.8532463783590838, 0.8532463783590838, 0.8532463783590838, 0.8532463783590838, 0.8532463783590838, 0.8532463783590838, 0.8532463783590838, 0.8532463783590838, 0.8532463783590838, 0.8532463783590838, 0.8532463783590838, 0.8532463783590838, 0.8533504616868628, 0.8533504616868628, 0.8533504616868628, 0.8533504616868628, 0.8533504616868628, 0.8533504616868628, 0.8533504616868628, 0.8533504616868628, 0.8533504616868628, 0.8533504616868628, 0.8533504616868628, 0.8533504616868628, 0.8533504616868628, 0.8533504616868628, 0.8629228961321662, 0.8629228961321662]}], \"matthews_correlation\": [{\"categories\": [\"0\", \"1\", \"2\", \"3\", \"4\", \"5\", \"6\", \"7\", \"8\", \"9\", \"10\", \"11\", \"12\", \"13\", \"14\", \"15\", \"16\", \"17\", \"18\", \"19\", \"20\", \"21\", \"22\", \"23\", \"24\", \"25\", \"26\", \"27\", \"28\", \"29\", \"30\", \"31\", \"32\", \"33\", \"34\", \"36\", \"37\"], \"mode\": \"markers\", \"name\": \"matthews_correlation\", \"stepped\": false, \"type\": \"scatter\", \"data\": [0.4246377532584085, 0.4736437134256053, 0.4540169983839971, 0.40120330453146663, 0.4915640513696042, 0.4281086764621979, 0.3536736003429463, 0.4822909335469623, 0.44642926621411866, 0.45746464327090475, 0.3955634670203058, 0.4456673049147907, 0.16810018513649963, 0.328456423899153, 0.32427590942173573, 0.3054725129231898, 0.3114719447301665, 0.4663102387993311, 0.05907054331650556, 0.16147097829823834, 0.4171618438682688, 0.4792557904104198, 0.4531843946757901, 0.33346421494346445, 0.46059102392358453, 0.4381853329194734, 0.4448243347046571, 0.4518344292055865, 0.4159725641474069, 0.4487144974362508, 0.0, 0.430039806275775, 0.22956054287201572, 0.47751132604432317, 0.29792345389315555, 0.51770179984071, 0.49511966936596297]}, {\"categories\": [\"0\", \"1\", \"2\", \"3\", \"4\", \"5\", \"6\", \"7\", \"8\", \"9\", \"10\", \"11\", \"12\", \"13\", \"14\", \"15\", \"16\", \"17\", \"18\", \"19\", \"20\", \"21\", \"22\", \"23\", \"24\", \"25\", \"26\", \"27\", \"28\", \"29\", \"30\", \"31\", \"32\", \"33\", \"34\", \"36\", \"37\"], \"mode\": \"lines\", \"name\": \"matthews_correlation_max\", \"stepped\": true, \"type\": \"scatter\", \"data\": [0.4246377532584085, 0.4736437134256053, 0.4736437134256053, 0.4736437134256053, 0.4915640513696042, 0.4915640513696042, 0.4915640513696042, 0.4915640513696042, 0.4915640513696042, 0.4915640513696042, 0.4915640513696042, 0.4915640513696042, 0.4915640513696042, 0.4915640513696042, 0.4915640513696042, 0.4915640513696042, 0.4915640513696042, 0.4915640513696042, 0.4915640513696042, 0.4915640513696042, 0.4915640513696042, 0.4915640513696042, 0.4915640513696042, 0.4915640513696042, 0.4915640513696042, 0.4915640513696042, 0.4915640513696042, 0.4915640513696042, 0.4915640513696042, 0.4915640513696042, 0.4915640513696042, 0.4915640513696042, 0.4915640513696042, 0.4915640513696042, 0.4915640513696042, 0.51770179984071, 0.51770179984071]}], \"f1_score_weighted\": [{\"categories\": [\"0\", \"1\", \"2\", \"3\", \"4\", \"5\", \"6\", \"7\", \"8\", \"9\", \"10\", \"11\", \"12\", \"13\", \"14\", \"15\", \"16\", \"17\", \"18\", \"19\", \"20\", \"21\", \"22\", \"23\", \"24\", \"25\", \"26\", \"27\", \"28\", \"29\", \"30\", \"31\", \"32\", \"33\", \"34\", \"36\", \"37\"], \"mode\": \"markers\", \"name\": \"f1_score_weighted\", \"stepped\": false, \"type\": \"scatter\", \"data\": [0.7417695202219394, 0.7642691151373454, 0.7543744359149661, 0.7247979572650852, 0.762894712977255, 0.724720339242713, 0.7084351228263952, 0.765882756566979, 0.7492925521154807, 0.7579549157357146, 0.711353764633559, 0.7429707780627803, 0.5671176167933851, 0.6931133547584001, 0.6928535613260949, 0.6844374741272834, 0.6917934482202626, 0.7581895994889724, 0.5344764542506978, 0.5828952489174307, 0.7352415377757525, 0.7674600771713894, 0.7524659246457632, 0.700148969525548, 0.7574340507673958, 0.7470143176639878, 0.752191526842211, 0.7545507133861717, 0.715050835326924, 0.7525644803926603, 0.5146586817401758, 0.7339261022076343, 0.6452665537135254, 0.7484556583968764, 0.6795149206247495, 0.7822828089221465, 0.7738510811230221]}, {\"categories\": [\"0\", \"1\", \"2\", \"3\", \"4\", \"5\", \"6\", \"7\", \"8\", \"9\", \"10\", \"11\", \"12\", \"13\", \"14\", \"15\", \"16\", \"17\", \"18\", \"19\", \"20\", \"21\", \"22\", \"23\", \"24\", \"25\", \"26\", \"27\", \"28\", \"29\", \"30\", \"31\", \"32\", \"33\", \"34\", \"36\", \"37\"], \"mode\": \"lines\", \"name\": \"f1_score_weighted_max\", \"stepped\": true, \"type\": \"scatter\", \"data\": [0.7417695202219394, 0.7642691151373454, 0.7642691151373454, 0.7642691151373454, 0.7642691151373454, 0.7642691151373454, 0.7642691151373454, 0.765882756566979, 0.765882756566979, 0.765882756566979, 0.765882756566979, 0.765882756566979, 0.765882756566979, 0.765882756566979, 0.765882756566979, 0.765882756566979, 0.765882756566979, 0.765882756566979, 0.765882756566979, 0.765882756566979, 0.765882756566979, 0.7674600771713894, 0.7674600771713894, 0.7674600771713894, 0.7674600771713894, 0.7674600771713894, 0.7674600771713894, 0.7674600771713894, 0.7674600771713894, 0.7674600771713894, 0.7674600771713894, 0.7674600771713894, 0.7674600771713894, 0.7674600771713894, 0.7674600771713894, 0.7822828089221465, 0.7822828089221465]}], \"AUC_weighted\": [{\"categories\": [\"0\", \"1\", \"2\", \"3\", \"4\", \"5\", \"6\", \"7\", \"8\", \"9\", \"10\", \"11\", \"12\", \"13\", \"14\", \"15\", \"16\", \"17\", \"18\", \"19\", \"20\", \"21\", \"22\", \"23\", \"24\", \"25\", \"26\", \"27\", \"28\", \"29\", \"30\", \"31\", \"32\", \"33\", \"34\", \"36\", \"37\"], \"mode\": \"markers\", \"name\": \"AUC_weighted\", \"stepped\": false, \"type\": \"scatter\", \"data\": [0.8062007971845107, 0.8324149004567104, 0.8195666087299083, 0.8118492589730579, 0.8296107990829009, 0.8000356484020432, 0.7660757757340357, 0.8157578359959624, 0.8321191397596769, 0.8289132756016636, 0.8205954082364076, 0.829706865156635, 0.8310087925075308, 0.7375290368157983, 0.7477157618689982, 0.7327039509975923, 0.7322712337821555, 0.8103940526008155, 0.7076781070767042, 0.7245147960904841, 0.7962448494904608, 0.832696094489777, 0.831332600058859, 0.7479880719291687, 0.8197919340273774, 0.8294086774783131, 0.811461785253487, 0.8285357764318488, 0.8128877489911701, 0.815136546616021, 0.6469038639101299, 0.8308260497472254, 0.7320750500675316, 0.8272230479177425, 0.7242659654682477, 0.8405975636646786, 0.8392069089635509]}, {\"categories\": [\"0\", \"1\", \"2\", \"3\", \"4\", \"5\", \"6\", \"7\", \"8\", \"9\", \"10\", \"11\", \"12\", \"13\", \"14\", \"15\", \"16\", \"17\", \"18\", \"19\", \"20\", \"21\", \"22\", \"23\", \"24\", \"25\", \"26\", \"27\", \"28\", \"29\", \"30\", \"31\", \"32\", \"33\", \"34\", \"36\", \"37\"], \"mode\": \"lines\", \"name\": \"AUC_weighted_max\", \"stepped\": true, \"type\": \"scatter\", \"data\": [0.8062007971845107, 0.8324149004567104, 0.8324149004567104, 0.8324149004567104, 0.8324149004567104, 0.8324149004567104, 0.8324149004567104, 0.8324149004567104, 0.8324149004567104, 0.8324149004567104, 0.8324149004567104, 0.8324149004567104, 0.8324149004567104, 0.8324149004567104, 0.8324149004567104, 0.8324149004567104, 0.8324149004567104, 0.8324149004567104, 0.8324149004567104, 0.8324149004567104, 0.8324149004567104, 0.832696094489777, 0.832696094489777, 0.832696094489777, 0.832696094489777, 0.832696094489777, 0.832696094489777, 0.832696094489777, 0.832696094489777, 0.832696094489777, 0.832696094489777, 0.832696094489777, 0.832696094489777, 0.832696094489777, 0.832696094489777, 0.8405975636646786, 0.8405975636646786]}], \"average_precision_score_macro\": [{\"categories\": [\"0\", \"1\", \"2\", \"3\", \"4\", \"5\", \"6\", \"7\", \"8\", \"9\", \"10\", \"11\", \"12\", \"13\", \"14\", \"15\", \"16\", \"17\", \"18\", \"19\", \"20\", \"21\", \"22\", \"23\", \"24\", \"25\", \"26\", \"27\", \"28\", \"29\", \"30\", \"31\", \"32\", \"33\", \"34\", \"36\", \"37\"], \"mode\": \"markers\", \"name\": \"average_precision_score_macro\", \"stepped\": false, \"type\": \"scatter\", \"data\": [0.7848257443237637, 0.8102231075585553, 0.7883319769053205, 0.7923576144576054, 0.8044663696146683, 0.7786803113753737, 0.7543822265332896, 0.7994447371893033, 0.8112225658991642, 0.8105865950920277, 0.801302270201021, 0.8085896371334835, 0.8051484103537223, 0.7247712942422352, 0.7338954354135723, 0.7092221874065332, 0.69968932973002, 0.7935387610570225, 0.6715508905040389, 0.6998502643092903, 0.779096783916778, 0.8142316402980369, 0.8095417338222888, 0.7251563957929672, 0.7998260380112232, 0.8032287910807113, 0.794313201675908, 0.809883087902584, 0.7912287534187676, 0.7838608561175302, 0.6175032237992782, 0.8060038217999075, 0.6999368630714762, 0.7985552314045697, 0.7119095245770495, 0.8251869733200031, 0.8191082679355443]}, {\"categories\": [\"0\", \"1\", \"2\", \"3\", \"4\", \"5\", \"6\", \"7\", \"8\", \"9\", \"10\", \"11\", \"12\", \"13\", \"14\", \"15\", \"16\", \"17\", \"18\", \"19\", \"20\", \"21\", \"22\", \"23\", \"24\", \"25\", \"26\", \"27\", \"28\", \"29\", \"30\", \"31\", \"32\", \"33\", \"34\", \"36\", \"37\"], \"mode\": \"lines\", \"name\": \"average_precision_score_macro_max\", \"stepped\": true, \"type\": \"scatter\", \"data\": [0.7848257443237637, 0.8102231075585553, 0.8102231075585553, 0.8102231075585553, 0.8102231075585553, 0.8102231075585553, 0.8102231075585553, 0.8102231075585553, 0.8112225658991642, 0.8112225658991642, 0.8112225658991642, 0.8112225658991642, 0.8112225658991642, 0.8112225658991642, 0.8112225658991642, 0.8112225658991642, 0.8112225658991642, 0.8112225658991642, 0.8112225658991642, 0.8112225658991642, 0.8112225658991642, 0.8142316402980369, 0.8142316402980369, 0.8142316402980369, 0.8142316402980369, 0.8142316402980369, 0.8142316402980369, 0.8142316402980369, 0.8142316402980369, 0.8142316402980369, 0.8142316402980369, 0.8142316402980369, 0.8142316402980369, 0.8142316402980369, 0.8142316402980369, 0.8251869733200031, 0.8251869733200031]}], \"precision_score_macro\": [{\"categories\": [\"0\", \"1\", \"2\", \"3\", \"4\", \"5\", \"6\", \"7\", \"8\", \"9\", \"10\", \"11\", \"12\", \"13\", \"14\", \"15\", \"16\", \"17\", \"18\", \"19\", \"20\", \"21\", \"22\", \"23\", \"24\", \"25\", \"26\", \"27\", \"28\", \"29\", \"30\", \"31\", \"32\", \"33\", \"34\", \"36\", \"37\"], \"mode\": \"markers\", \"name\": \"precision_score_macro\", \"stepped\": false, \"type\": \"scatter\", \"data\": [0.7143475727069413, 0.7406688342517045, 0.7521188686015494, 0.724945755566555, 0.7380829756960321, 0.7048848691575902, 0.6888042471539706, 0.7627314339960367, 0.7426783999106659, 0.7416728221355137, 0.7527706083308333, 0.7620846566344383, 0.7053164099690612, 0.6946651913823182, 0.6829275467123888, 0.6725948858608858, 0.6673577317596576, 0.7555216454114074, 0.578051724137931, 0.6597672390435548, 0.7204646519375696, 0.7468010035735988, 0.7520251310454725, 0.6731316645447324, 0.7473969078263798, 0.7377336710786816, 0.734250592015665, 0.7395554051639088, 0.7757668399342199, 0.7396014632981235, 0.3255708343943638, 0.7575264750364172, 0.6478893437716967, 0.727904361180695, 0.667786333843259, 0.777203383635239, 0.7579917421153596]}, {\"categories\": [\"0\", \"1\", \"2\", \"3\", \"4\", \"5\", \"6\", \"7\", \"8\", \"9\", \"10\", \"11\", \"12\", \"13\", \"14\", \"15\", \"16\", \"17\", \"18\", \"19\", \"20\", \"21\", \"22\", \"23\", \"24\", \"25\", \"26\", \"27\", \"28\", \"29\", \"30\", \"31\", \"32\", \"33\", \"34\", \"36\", \"37\"], \"mode\": \"lines\", \"name\": \"precision_score_macro_max\", \"stepped\": true, \"type\": \"scatter\", \"data\": [0.7143475727069413, 0.7406688342517045, 0.7521188686015494, 0.7521188686015494, 0.7521188686015494, 0.7521188686015494, 0.7521188686015494, 0.7627314339960367, 0.7627314339960367, 0.7627314339960367, 0.7627314339960367, 0.7627314339960367, 0.7627314339960367, 0.7627314339960367, 0.7627314339960367, 0.7627314339960367, 0.7627314339960367, 0.7627314339960367, 0.7627314339960367, 0.7627314339960367, 0.7627314339960367, 0.7627314339960367, 0.7627314339960367, 0.7627314339960367, 0.7627314339960367, 0.7627314339960367, 0.7627314339960367, 0.7627314339960367, 0.7757668399342199, 0.7757668399342199, 0.7757668399342199, 0.7757668399342199, 0.7757668399342199, 0.7757668399342199, 0.7757668399342199, 0.777203383635239, 0.777203383635239]}], \"precision_score_weighted\": [{\"categories\": [\"0\", \"1\", \"2\", \"3\", \"4\", \"5\", \"6\", \"7\", \"8\", \"9\", \"10\", \"11\", \"12\", \"13\", \"14\", \"15\", \"16\", \"17\", \"18\", \"19\", \"20\", \"21\", \"22\", \"23\", \"24\", \"25\", \"26\", \"27\", \"28\", \"29\", \"30\", \"31\", \"32\", \"33\", \"34\", \"36\", \"37\"], \"mode\": \"markers\", \"name\": \"precision_score_weighted\", \"stepped\": false, \"type\": \"scatter\", \"data\": [0.7422913189086859, 0.7669645066030578, 0.7644669620239698, 0.7400449310019421, 0.7739339202036254, 0.7481944976776616, 0.7115161895977773, 0.7757392261176552, 0.7559859704256265, 0.759193404727637, 0.7534663245780626, 0.7665319822960314, 0.6960187609011741, 0.70877801320429, 0.7027707830113634, 0.6937002842182565, 0.6919002412624771, 0.7686820578442385, 0.6054820927325999, 0.6716569355877184, 0.742164676787643, 0.7675971405306165, 0.7629456819935656, 0.7011597018274391, 0.7635801673019533, 0.7532058898990284, 0.754586166835254, 0.7565310607907362, 0.7668495014827809, 0.7562705991177188, 0.4265500510508674, 0.7593771173982566, 0.670795745064433, 0.7714858606038193, 0.6917995244591385, 0.7889096872808066, 0.7757687658733633]}, {\"categories\": [\"0\", \"1\", \"2\", \"3\", \"4\", \"5\", \"6\", \"7\", \"8\", \"9\", \"10\", \"11\", \"12\", \"13\", \"14\", \"15\", \"16\", \"17\", \"18\", \"19\", \"20\", \"21\", \"22\", \"23\", \"24\", \"25\", \"26\", \"27\", \"28\", \"29\", \"30\", \"31\", \"32\", \"33\", \"34\", \"36\", \"37\"], \"mode\": \"lines\", \"name\": \"precision_score_weighted_max\", \"stepped\": true, \"type\": \"scatter\", \"data\": [0.7422913189086859, 0.7669645066030578, 0.7669645066030578, 0.7669645066030578, 0.7739339202036254, 0.7739339202036254, 0.7739339202036254, 0.7757392261176552, 0.7757392261176552, 0.7757392261176552, 0.7757392261176552, 0.7757392261176552, 0.7757392261176552, 0.7757392261176552, 0.7757392261176552, 0.7757392261176552, 0.7757392261176552, 0.7757392261176552, 0.7757392261176552, 0.7757392261176552, 0.7757392261176552, 0.7757392261176552, 0.7757392261176552, 0.7757392261176552, 0.7757392261176552, 0.7757392261176552, 0.7757392261176552, 0.7757392261176552, 0.7757392261176552, 0.7757392261176552, 0.7757392261176552, 0.7757392261176552, 0.7757392261176552, 0.7757392261176552, 0.7757392261176552, 0.7889096872808066, 0.7889096872808066]}], \"f1_score_macro\": [{\"categories\": [\"0\", \"1\", \"2\", \"3\", \"4\", \"5\", \"6\", \"7\", \"8\", \"9\", \"10\", \"11\", \"12\", \"13\", \"14\", \"15\", \"16\", \"17\", \"18\", \"19\", \"20\", \"21\", \"22\", \"23\", \"24\", \"25\", \"26\", \"27\", \"28\", \"29\", \"30\", \"31\", \"32\", \"33\", \"34\", \"36\", \"37\"], \"mode\": \"markers\", \"name\": \"f1_score_macro\", \"stepped\": false, \"type\": \"scatter\", \"data\": [0.7110567297826602, 0.7345738794182582, 0.7146983909623679, 0.6839196783683256, 0.7416764551041953, 0.7042734589170069, 0.6695423199560285, 0.7311794800124908, 0.7135511986706693, 0.724541630083503, 0.6599168502795488, 0.7001293488951174, 0.47234525019529505, 0.6431116129321006, 0.6484722235145775, 0.6376549729793167, 0.6501199926965453, 0.7222107295619971, 0.42690153499502126, 0.4957733934710478, 0.7011268980025239, 0.7377016766700105, 0.7144836271407069, 0.6631284381274172, 0.7225697415407403, 0.710662320156136, 0.7180318479223905, 0.7209156223384683, 0.6622780014743371, 0.7181241781211084, 0.39381232791863974, 0.689724826382317, 0.5821309615687097, 0.729176672093583, 0.6341009026249725, 0.7516440278673007, 0.7439085911226311]}, {\"categories\": [\"0\", \"1\", \"2\", \"3\", \"4\", \"5\", \"6\", \"7\", \"8\", \"9\", \"10\", \"11\", \"12\", \"13\", \"14\", \"15\", \"16\", \"17\", \"18\", \"19\", \"20\", \"21\", \"22\", \"23\", \"24\", \"25\", \"26\", \"27\", \"28\", \"29\", \"30\", \"31\", \"32\", \"33\", \"34\", \"36\", \"37\"], \"mode\": \"lines\", \"name\": \"f1_score_macro_max\", \"stepped\": true, \"type\": \"scatter\", \"data\": [0.7110567297826602, 0.7345738794182582, 0.7345738794182582, 0.7345738794182582, 0.7416764551041953, 0.7416764551041953, 0.7416764551041953, 0.7416764551041953, 0.7416764551041953, 0.7416764551041953, 0.7416764551041953, 0.7416764551041953, 0.7416764551041953, 0.7416764551041953, 0.7416764551041953, 0.7416764551041953, 0.7416764551041953, 0.7416764551041953, 0.7416764551041953, 0.7416764551041953, 0.7416764551041953, 0.7416764551041953, 0.7416764551041953, 0.7416764551041953, 0.7416764551041953, 0.7416764551041953, 0.7416764551041953, 0.7416764551041953, 0.7416764551041953, 0.7416764551041953, 0.7416764551041953, 0.7416764551041953, 0.7416764551041953, 0.7416764551041953, 0.7416764551041953, 0.7516440278673007, 0.7516440278673007]}], \"average_precision_score_weighted\": [{\"categories\": [\"0\", \"1\", \"2\", \"3\", \"4\", \"5\", \"6\", \"7\", \"8\", \"9\", \"10\", \"11\", \"12\", \"13\", \"14\", \"15\", \"16\", \"17\", \"18\", \"19\", \"20\", \"21\", \"22\", \"23\", \"24\", \"25\", \"26\", \"27\", \"28\", \"29\", \"30\", \"31\", \"32\", \"33\", \"34\", \"36\", \"37\"], \"mode\": \"markers\", \"name\": \"average_precision_score_weighted\", \"stepped\": false, \"type\": \"scatter\", \"data\": [0.8183229088104544, 0.8410481501195661, 0.8245865958130345, 0.8253576382823807, 0.8367397214497719, 0.8115130438193097, 0.7880625636552105, 0.8278588170894338, 0.8408598706316999, 0.8394980732024988, 0.8334180980917585, 0.8398658268452843, 0.8375571978412456, 0.7603749169747926, 0.7718554491417253, 0.7488817348200149, 0.7404423239371536, 0.8225569933650192, 0.716781153938994, 0.7454929882904399, 0.8101605534834624, 0.842411164100081, 0.8400337376924965, 0.7632421767633291, 0.8275158560514791, 0.8337457124473818, 0.8260787350808958, 0.8386422890923841, 0.8262671157241579, 0.8168913279255078, 0.6702686003941493, 0.8368367581539046, 0.744386601059533, 0.8321927081862801, 0.7460813927644278, 0.8528805238627882, 0.848256213475576]}, {\"categories\": [\"0\", \"1\", \"2\", \"3\", \"4\", \"5\", \"6\", \"7\", \"8\", \"9\", \"10\", \"11\", \"12\", \"13\", \"14\", \"15\", \"16\", \"17\", \"18\", \"19\", \"20\", \"21\", \"22\", \"23\", \"24\", \"25\", \"26\", \"27\", \"28\", \"29\", \"30\", \"31\", \"32\", \"33\", \"34\", \"36\", \"37\"], \"mode\": \"lines\", \"name\": \"average_precision_score_weighted_max\", \"stepped\": true, \"type\": \"scatter\", \"data\": [0.8183229088104544, 0.8410481501195661, 0.8410481501195661, 0.8410481501195661, 0.8410481501195661, 0.8410481501195661, 0.8410481501195661, 0.8410481501195661, 0.8410481501195661, 0.8410481501195661, 0.8410481501195661, 0.8410481501195661, 0.8410481501195661, 0.8410481501195661, 0.8410481501195661, 0.8410481501195661, 0.8410481501195661, 0.8410481501195661, 0.8410481501195661, 0.8410481501195661, 0.8410481501195661, 0.842411164100081, 0.842411164100081, 0.842411164100081, 0.842411164100081, 0.842411164100081, 0.842411164100081, 0.842411164100081, 0.842411164100081, 0.842411164100081, 0.842411164100081, 0.842411164100081, 0.842411164100081, 0.842411164100081, 0.842411164100081, 0.8528805238627882, 0.8528805238627882]}], \"log_loss\": [{\"categories\": [\"0\", \"1\", \"2\", \"3\", \"4\", \"5\", \"6\", \"7\", \"8\", \"9\", \"10\", \"11\", \"12\", \"13\", \"14\", \"15\", \"16\", \"17\", \"18\", \"19\", \"20\", \"21\", \"22\", \"23\", \"24\", \"25\", \"26\", \"27\", \"28\", \"29\", \"30\", \"31\", \"32\", \"33\", \"34\", \"36\", \"37\"], \"mode\": \"markers\", \"name\": \"log_loss\", \"stepped\": false, \"type\": \"scatter\", \"data\": [0.62702930996628, 0.48040462908306597, 0.5052016567787632, 0.5209584526490023, 0.5051787489099488, 0.5755536471221396, 0.5429842329358994, 0.4938862828734437, 0.4912549138377148, 0.48099097034460864, 0.5329123679190928, 0.5084150457464217, 0.570244707262296, 0.5701583755718478, 0.5509719439809466, 0.5705243215566984, 0.6109055869894956, 0.5019277526054587, 0.6047534806685755, 0.5893442870072537, 0.5140125060486748, 0.4765253096105103, 0.4975101037924543, 0.732008916827591, 0.49449625403514463, 0.4974087333110392, 0.5060401744703491, 0.48344463904090584, 0.5434838309327406, 0.5453568603379733, 0.6496225403317442, 0.51995500212187, 0.5792908524376369, 0.5465175266548947, 0.5795901445157947, 0.4761962774196514, 0.47091855731121457]}, {\"categories\": [\"0\", \"1\", \"2\", \"3\", \"4\", \"5\", \"6\", \"7\", \"8\", \"9\", \"10\", \"11\", \"12\", \"13\", \"14\", \"15\", \"16\", \"17\", \"18\", \"19\", \"20\", \"21\", \"22\", \"23\", \"24\", \"25\", \"26\", \"27\", \"28\", \"29\", \"30\", \"31\", \"32\", \"33\", \"34\", \"36\", \"37\"], \"mode\": \"lines\", \"name\": \"log_loss_min\", \"stepped\": true, \"type\": \"scatter\", \"data\": [0.62702930996628, 0.48040462908306597, 0.48040462908306597, 0.48040462908306597, 0.48040462908306597, 0.48040462908306597, 0.48040462908306597, 0.48040462908306597, 0.48040462908306597, 0.48040462908306597, 0.48040462908306597, 0.48040462908306597, 0.48040462908306597, 0.48040462908306597, 0.48040462908306597, 0.48040462908306597, 0.48040462908306597, 0.48040462908306597, 0.48040462908306597, 0.48040462908306597, 0.48040462908306597, 0.4765253096105103, 0.4765253096105103, 0.4765253096105103, 0.4765253096105103, 0.4765253096105103, 0.4765253096105103, 0.4765253096105103, 0.4765253096105103, 0.4765253096105103, 0.4765253096105103, 0.4765253096105103, 0.4765253096105103, 0.4765253096105103, 0.4765253096105103, 0.4761962774196514, 0.47091855731121457]}], \"accuracy\": [{\"categories\": [\"0\", \"1\", \"2\", \"3\", \"4\", \"5\", \"6\", \"7\", \"8\", \"9\", \"10\", \"11\", \"12\", \"13\", \"14\", \"15\", \"16\", \"17\", \"18\", \"19\", \"20\", \"21\", \"22\", \"23\", \"24\", \"25\", \"26\", \"27\", \"28\", \"29\", \"30\", \"31\", \"32\", \"33\", \"34\", \"36\", \"37\"], \"mode\": \"markers\", \"name\": \"accuracy\", \"stepped\": false, \"type\": \"scatter\", \"data\": [0.7435277141159494, 0.7656395891690009, 0.7669298022239198, 0.7408878702996351, 0.7591885238944063, 0.718809948221713, 0.718860877684407, 0.7747729394788218, 0.7604957134368899, 0.7643918173329938, 0.7409472880061114, 0.7617944147355912, 0.6693913929208046, 0.7162380103556574, 0.708454290807232, 0.7031746031746031, 0.7019438078261608, 0.7682624564977505, 0.6524318818436465, 0.665452847805789, 0.7422629657923775, 0.7708853238265002, 0.7643833290892115, 0.7058144469909176, 0.7656820303879127, 0.7565401918343095, 0.7578983108394872, 0.7617859264918089, 0.7487904252610134, 0.7604532722179782, 0.6511416687887276, 0.7553009082420846, 0.6810117986588575, 0.742178083354554, 0.6953823953823954, 0.789126559714795, 0.7787199728376197]}, {\"categories\": [\"0\", \"1\", \"2\", \"3\", \"4\", \"5\", \"6\", \"7\", \"8\", \"9\", \"10\", \"11\", \"12\", \"13\", \"14\", \"15\", \"16\", \"17\", \"18\", \"19\", \"20\", \"21\", \"22\", \"23\", \"24\", \"25\", \"26\", \"27\", \"28\", \"29\", \"30\", \"31\", \"32\", \"33\", \"34\", \"36\", \"37\"], \"mode\": \"lines\", \"name\": \"accuracy_max\", \"stepped\": true, \"type\": \"scatter\", \"data\": [0.7435277141159494, 0.7656395891690009, 0.7669298022239198, 0.7669298022239198, 0.7669298022239198, 0.7669298022239198, 0.7669298022239198, 0.7747729394788218, 0.7747729394788218, 0.7747729394788218, 0.7747729394788218, 0.7747729394788218, 0.7747729394788218, 0.7747729394788218, 0.7747729394788218, 0.7747729394788218, 0.7747729394788218, 0.7747729394788218, 0.7747729394788218, 0.7747729394788218, 0.7747729394788218, 0.7747729394788218, 0.7747729394788218, 0.7747729394788218, 0.7747729394788218, 0.7747729394788218, 0.7747729394788218, 0.7747729394788218, 0.7747729394788218, 0.7747729394788218, 0.7747729394788218, 0.7747729394788218, 0.7747729394788218, 0.7747729394788218, 0.7747729394788218, 0.789126559714795, 0.789126559714795]}], \"precision_score_micro\": [{\"categories\": [\"0\", \"1\", \"2\", \"3\", \"4\", \"5\", \"6\", \"7\", \"8\", \"9\", \"10\", \"11\", \"12\", \"13\", \"14\", \"15\", \"16\", \"17\", \"18\", \"19\", \"20\", \"21\", \"22\", \"23\", \"24\", \"25\", \"26\", \"27\", \"28\", \"29\", \"30\", \"31\", \"32\", \"33\", \"34\", \"36\", \"37\"], \"mode\": \"markers\", \"name\": \"precision_score_micro\", \"stepped\": false, \"type\": \"scatter\", \"data\": [0.7435277141159494, 0.7656395891690009, 0.7669298022239198, 0.7408878702996351, 0.7591885238944063, 0.718809948221713, 0.718860877684407, 0.7747729394788218, 0.7604957134368899, 0.7643918173329938, 0.7409472880061114, 0.7617944147355912, 0.6693913929208046, 0.7162380103556574, 0.708454290807232, 0.7031746031746031, 0.7019438078261608, 0.7682624564977505, 0.6524318818436465, 0.665452847805789, 0.7422629657923775, 0.7708853238265002, 0.7643833290892115, 0.7058144469909176, 0.7656820303879127, 0.7565401918343095, 0.7578983108394872, 0.7617859264918089, 0.7487904252610134, 0.7604532722179782, 0.6511416687887276, 0.7553009082420846, 0.6810117986588575, 0.742178083354554, 0.6953823953823954, 0.789126559714795, 0.7787199728376197]}, {\"categories\": [\"0\", \"1\", \"2\", \"3\", \"4\", \"5\", \"6\", \"7\", \"8\", \"9\", \"10\", \"11\", \"12\", \"13\", \"14\", \"15\", \"16\", \"17\", \"18\", \"19\", \"20\", \"21\", \"22\", \"23\", \"24\", \"25\", \"26\", \"27\", \"28\", \"29\", \"30\", \"31\", \"32\", \"33\", \"34\", \"36\", \"37\"], \"mode\": \"lines\", \"name\": \"precision_score_micro_max\", \"stepped\": true, \"type\": \"scatter\", \"data\": [0.7435277141159494, 0.7656395891690009, 0.7669298022239198, 0.7669298022239198, 0.7669298022239198, 0.7669298022239198, 0.7669298022239198, 0.7747729394788218, 0.7747729394788218, 0.7747729394788218, 0.7747729394788218, 0.7747729394788218, 0.7747729394788218, 0.7747729394788218, 0.7747729394788218, 0.7747729394788218, 0.7747729394788218, 0.7747729394788218, 0.7747729394788218, 0.7747729394788218, 0.7747729394788218, 0.7747729394788218, 0.7747729394788218, 0.7747729394788218, 0.7747729394788218, 0.7747729394788218, 0.7747729394788218, 0.7747729394788218, 0.7747729394788218, 0.7747729394788218, 0.7747729394788218, 0.7747729394788218, 0.7747729394788218, 0.7747729394788218, 0.7747729394788218, 0.789126559714795, 0.789126559714795]}], \"AUC_micro\": [{\"categories\": [\"0\", \"1\", \"2\", \"3\", \"4\", \"5\", \"6\", \"7\", \"8\", \"9\", \"10\", \"11\", \"12\", \"13\", \"14\", \"15\", \"16\", \"17\", \"18\", \"19\", \"20\", \"21\", \"22\", \"23\", \"24\", \"25\", \"26\", \"27\", \"28\", \"29\", \"30\", \"31\", \"32\", \"33\", \"34\", \"36\", \"37\"], \"mode\": \"markers\", \"name\": \"AUC_micro\", \"stepped\": false, \"type\": \"scatter\", \"data\": [0.8308010717565983, 0.8534052480172104, 0.8384806635162393, 0.828600137726997, 0.8387081914636252, 0.798322814244263, 0.8008986208502378, 0.842058934522872, 0.8482515849747234, 0.8494722867990891, 0.8214622570971528, 0.8402043101761493, 0.8020344106961641, 0.780031531509235, 0.7860671321590449, 0.7737588623738806, 0.7701876407668885, 0.8375430652644212, 0.7444491356383386, 0.7545717611843528, 0.8249728981061087, 0.8526658143406447, 0.848452514479567, 0.7835053703146395, 0.8451406746101094, 0.8480860195497921, 0.8373487438512379, 0.8495690326761792, 0.8193257461071539, 0.8378908970095177, 0.7171888791887594, 0.837811127259741, 0.76578018592878, 0.8237468054796053, 0.7672695034548866, 0.8608238538397769, 0.8582302670253359]}, {\"categories\": [\"0\", \"1\", \"2\", \"3\", \"4\", \"5\", \"6\", \"7\", \"8\", \"9\", \"10\", \"11\", \"12\", \"13\", \"14\", \"15\", \"16\", \"17\", \"18\", \"19\", \"20\", \"21\", \"22\", \"23\", \"24\", \"25\", \"26\", \"27\", \"28\", \"29\", \"30\", \"31\", \"32\", \"33\", \"34\", \"36\", \"37\"], \"mode\": \"lines\", \"name\": \"AUC_micro_max\", \"stepped\": true, \"type\": \"scatter\", \"data\": [0.8308010717565983, 0.8534052480172104, 0.8534052480172104, 0.8534052480172104, 0.8534052480172104, 0.8534052480172104, 0.8534052480172104, 0.8534052480172104, 0.8534052480172104, 0.8534052480172104, 0.8534052480172104, 0.8534052480172104, 0.8534052480172104, 0.8534052480172104, 0.8534052480172104, 0.8534052480172104, 0.8534052480172104, 0.8534052480172104, 0.8534052480172104, 0.8534052480172104, 0.8534052480172104, 0.8534052480172104, 0.8534052480172104, 0.8534052480172104, 0.8534052480172104, 0.8534052480172104, 0.8534052480172104, 0.8534052480172104, 0.8534052480172104, 0.8534052480172104, 0.8534052480172104, 0.8534052480172104, 0.8534052480172104, 0.8534052480172104, 0.8534052480172104, 0.8608238538397769, 0.8608238538397769]}], \"recall_score_weighted\": [{\"categories\": [\"0\", \"1\", \"2\", \"3\", \"4\", \"5\", \"6\", \"7\", \"8\", \"9\", \"10\", \"11\", \"12\", \"13\", \"14\", \"15\", \"16\", \"17\", \"18\", \"19\", \"20\", \"21\", \"22\", \"23\", \"24\", \"25\", \"26\", \"27\", \"28\", \"29\", \"30\", \"31\", \"32\", \"33\", \"34\", \"36\", \"37\"], \"mode\": \"markers\", \"name\": \"recall_score_weighted\", \"stepped\": false, \"type\": \"scatter\", \"data\": [0.7435277141159494, 0.7656395891690009, 0.7669298022239198, 0.7408878702996351, 0.7591885238944063, 0.718809948221713, 0.718860877684407, 0.7747729394788218, 0.7604957134368899, 0.7643918173329938, 0.7409472880061114, 0.7617944147355912, 0.6693913929208046, 0.7162380103556574, 0.708454290807232, 0.7031746031746031, 0.7019438078261608, 0.7682624564977505, 0.6524318818436465, 0.665452847805789, 0.7422629657923775, 0.7708853238265002, 0.7643833290892115, 0.7058144469909176, 0.7656820303879127, 0.7565401918343095, 0.7578983108394872, 0.7617859264918089, 0.7487904252610134, 0.7604532722179782, 0.6511416687887276, 0.7553009082420846, 0.6810117986588575, 0.742178083354554, 0.6953823953823954, 0.789126559714795, 0.7787199728376197]}, {\"categories\": [\"0\", \"1\", \"2\", \"3\", \"4\", \"5\", \"6\", \"7\", \"8\", \"9\", \"10\", \"11\", \"12\", \"13\", \"14\", \"15\", \"16\", \"17\", \"18\", \"19\", \"20\", \"21\", \"22\", \"23\", \"24\", \"25\", \"26\", \"27\", \"28\", \"29\", \"30\", \"31\", \"32\", \"33\", \"34\", \"36\", \"37\"], \"mode\": \"lines\", \"name\": \"recall_score_weighted_max\", \"stepped\": true, \"type\": \"scatter\", \"data\": [0.7435277141159494, 0.7656395891690009, 0.7669298022239198, 0.7669298022239198, 0.7669298022239198, 0.7669298022239198, 0.7669298022239198, 0.7747729394788218, 0.7747729394788218, 0.7747729394788218, 0.7747729394788218, 0.7747729394788218, 0.7747729394788218, 0.7747729394788218, 0.7747729394788218, 0.7747729394788218, 0.7747729394788218, 0.7747729394788218, 0.7747729394788218, 0.7747729394788218, 0.7747729394788218, 0.7747729394788218, 0.7747729394788218, 0.7747729394788218, 0.7747729394788218, 0.7747729394788218, 0.7747729394788218, 0.7747729394788218, 0.7747729394788218, 0.7747729394788218, 0.7747729394788218, 0.7747729394788218, 0.7747729394788218, 0.7747729394788218, 0.7747729394788218, 0.789126559714795, 0.789126559714795]}], \"AUC_macro\": [{\"categories\": [\"0\", \"1\", \"2\", \"3\", \"4\", \"5\", \"6\", \"7\", \"8\", \"9\", \"10\", \"11\", \"12\", \"13\", \"14\", \"15\", \"16\", \"17\", \"18\", \"19\", \"20\", \"21\", \"22\", \"23\", \"24\", \"25\", \"26\", \"27\", \"28\", \"29\", \"30\", \"31\", \"32\", \"33\", \"34\", \"36\", \"37\"], \"mode\": \"markers\", \"name\": \"AUC_macro\", \"stepped\": false, \"type\": \"scatter\", \"data\": [0.8062007971845107, 0.8324149004567104, 0.8195666087299083, 0.8118492589730579, 0.8296107990829007, 0.8000356484020432, 0.7660757757340357, 0.8157578359959624, 0.8321191397596769, 0.8289132756016638, 0.8205954082364076, 0.8297068651566353, 0.8310087925075308, 0.7375290368157982, 0.7477157618689981, 0.7327039509975923, 0.7322712337821555, 0.8103940526008155, 0.7076781070767042, 0.7245147960904841, 0.7962448494904608, 0.832696094489777, 0.831332600058859, 0.7479880719291687, 0.8197919340273774, 0.8294086774783131, 0.811461785253487, 0.8285357764318488, 0.8128877489911701, 0.8151365466160211, 0.6469038639101299, 0.8308260497472254, 0.7320750500675316, 0.8272230479177425, 0.7242659654682477, 0.8405975636646786, 0.8392069089635509]}, {\"categories\": [\"0\", \"1\", \"2\", \"3\", \"4\", \"5\", \"6\", \"7\", \"8\", \"9\", \"10\", \"11\", \"12\", \"13\", \"14\", \"15\", \"16\", \"17\", \"18\", \"19\", \"20\", \"21\", \"22\", \"23\", \"24\", \"25\", \"26\", \"27\", \"28\", \"29\", \"30\", \"31\", \"32\", \"33\", \"34\", \"36\", \"37\"], \"mode\": \"lines\", \"name\": \"AUC_macro_max\", \"stepped\": true, \"type\": \"scatter\", \"data\": [0.8062007971845107, 0.8324149004567104, 0.8324149004567104, 0.8324149004567104, 0.8324149004567104, 0.8324149004567104, 0.8324149004567104, 0.8324149004567104, 0.8324149004567104, 0.8324149004567104, 0.8324149004567104, 0.8324149004567104, 0.8324149004567104, 0.8324149004567104, 0.8324149004567104, 0.8324149004567104, 0.8324149004567104, 0.8324149004567104, 0.8324149004567104, 0.8324149004567104, 0.8324149004567104, 0.832696094489777, 0.832696094489777, 0.832696094489777, 0.832696094489777, 0.832696094489777, 0.832696094489777, 0.832696094489777, 0.832696094489777, 0.832696094489777, 0.832696094489777, 0.832696094489777, 0.832696094489777, 0.832696094489777, 0.832696094489777, 0.8405975636646786, 0.8405975636646786]}], \"balanced_accuracy\": [{\"categories\": [\"0\", \"1\", \"2\", \"3\", \"4\", \"5\", \"6\", \"7\", \"8\", \"9\", \"10\", \"11\", \"12\", \"13\", \"14\", \"15\", \"16\", \"17\", \"18\", \"19\", \"20\", \"21\", \"22\", \"23\", \"24\", \"25\", \"26\", \"27\", \"28\", \"29\", \"30\", \"31\", \"32\", \"33\", \"34\", \"36\", \"37\"], \"mode\": \"markers\", \"name\": \"balanced_accuracy\", \"stepped\": false, \"type\": \"scatter\", \"data\": [0.7104731774264245, 0.7333555620308326, 0.7047941598788164, 0.679810128393767, 0.753914674468142, 0.7239830070684861, 0.6659595592025392, 0.7218018098728404, 0.7055435277432194, 0.7164940753182458, 0.6550338513065191, 0.6896210808375418, 0.5367887993242815, 0.6388945103253049, 0.6441356246008602, 0.6356822568730746, 0.6449707382411309, 0.7131587060949854, 0.5116093022709822, 0.5442510404246892, 0.6982646076377421, 0.7327423290154973, 0.7039368179163437, 0.6608071940346981, 0.7147095315044784, 0.7020295031556297, 0.7113822631821594, 0.7130931092226194, 0.6572308946588986, 0.7101588224723316, 0.5, 0.6796785177906595, 0.5900499621614124, 0.7505164497128904, 0.6339162720963882, 0.7420683095491432, 0.7377057091197615]}, {\"categories\": [\"0\", \"1\", \"2\", \"3\", \"4\", \"5\", \"6\", \"7\", \"8\", \"9\", \"10\", \"11\", \"12\", \"13\", \"14\", \"15\", \"16\", \"17\", \"18\", \"19\", \"20\", \"21\", \"22\", \"23\", \"24\", \"25\", \"26\", \"27\", \"28\", \"29\", \"30\", \"31\", \"32\", \"33\", \"34\", \"36\", \"37\"], \"mode\": \"lines\", \"name\": \"balanced_accuracy_max\", \"stepped\": true, \"type\": \"scatter\", \"data\": [0.7104731774264245, 0.7333555620308326, 0.7333555620308326, 0.7333555620308326, 0.753914674468142, 0.753914674468142, 0.753914674468142, 0.753914674468142, 0.753914674468142, 0.753914674468142, 0.753914674468142, 0.753914674468142, 0.753914674468142, 0.753914674468142, 0.753914674468142, 0.753914674468142, 0.753914674468142, 0.753914674468142, 0.753914674468142, 0.753914674468142, 0.753914674468142, 0.753914674468142, 0.753914674468142, 0.753914674468142, 0.753914674468142, 0.753914674468142, 0.753914674468142, 0.753914674468142, 0.753914674468142, 0.753914674468142, 0.753914674468142, 0.753914674468142, 0.753914674468142, 0.753914674468142, 0.753914674468142, 0.753914674468142, 0.753914674468142]}], \"recall_score_macro\": [{\"categories\": [\"0\", \"1\", \"2\", \"3\", \"4\", \"5\", \"6\", \"7\", \"8\", \"9\", \"10\", \"11\", \"12\", \"13\", \"14\", \"15\", \"16\", \"17\", \"18\", \"19\", \"20\", \"21\", \"22\", \"23\", \"24\", \"25\", \"26\", \"27\", \"28\", \"29\", \"30\", \"31\", \"32\", \"33\", \"34\", \"36\", \"37\"], \"mode\": \"markers\", \"name\": \"recall_score_macro\", \"stepped\": false, \"type\": \"scatter\", \"data\": [0.7104731774264245, 0.7333555620308326, 0.7047941598788164, 0.679810128393767, 0.753914674468142, 0.7239830070684861, 0.6659595592025392, 0.7218018098728404, 0.7055435277432194, 0.7164940753182458, 0.6550338513065191, 0.6896210808375418, 0.5367887993242815, 0.6388945103253049, 0.6441356246008602, 0.6356822568730746, 0.6449707382411309, 0.7131587060949854, 0.5116093022709822, 0.5442510404246892, 0.6982646076377421, 0.7327423290154973, 0.7039368179163437, 0.6608071940346981, 0.7147095315044784, 0.7020295031556297, 0.7113822631821594, 0.7130931092226194, 0.6572308946588986, 0.7101588224723316, 0.5, 0.6796785177906595, 0.5900499621614124, 0.7505164497128904, 0.6339162720963882, 0.7420683095491432, 0.7377057091197615]}, {\"categories\": [\"0\", \"1\", \"2\", \"3\", \"4\", \"5\", \"6\", \"7\", \"8\", \"9\", \"10\", \"11\", \"12\", \"13\", \"14\", \"15\", \"16\", \"17\", \"18\", \"19\", \"20\", \"21\", \"22\", \"23\", \"24\", \"25\", \"26\", \"27\", \"28\", \"29\", \"30\", \"31\", \"32\", \"33\", \"34\", \"36\", \"37\"], \"mode\": \"lines\", \"name\": \"recall_score_macro_max\", \"stepped\": true, \"type\": \"scatter\", \"data\": [0.7104731774264245, 0.7333555620308326, 0.7333555620308326, 0.7333555620308326, 0.753914674468142, 0.753914674468142, 0.753914674468142, 0.753914674468142, 0.753914674468142, 0.753914674468142, 0.753914674468142, 0.753914674468142, 0.753914674468142, 0.753914674468142, 0.753914674468142, 0.753914674468142, 0.753914674468142, 0.753914674468142, 0.753914674468142, 0.753914674468142, 0.753914674468142, 0.753914674468142, 0.753914674468142, 0.753914674468142, 0.753914674468142, 0.753914674468142, 0.753914674468142, 0.753914674468142, 0.753914674468142, 0.753914674468142, 0.753914674468142, 0.753914674468142, 0.753914674468142, 0.753914674468142, 0.753914674468142, 0.753914674468142, 0.753914674468142]}], \"f1_score_micro\": [{\"categories\": [\"0\", \"1\", \"2\", \"3\", \"4\", \"5\", \"6\", \"7\", \"8\", \"9\", \"10\", \"11\", \"12\", \"13\", \"14\", \"15\", \"16\", \"17\", \"18\", \"19\", \"20\", \"21\", \"22\", \"23\", \"24\", \"25\", \"26\", \"27\", \"28\", \"29\", \"30\", \"31\", \"32\", \"33\", \"34\", \"36\", \"37\"], \"mode\": \"markers\", \"name\": \"f1_score_micro\", \"stepped\": false, \"type\": \"scatter\", \"data\": [0.7435277141159494, 0.7656395891690009, 0.7669298022239198, 0.7408878702996351, 0.7591885238944063, 0.718809948221713, 0.718860877684407, 0.7747729394788218, 0.7604957134368899, 0.7643918173329938, 0.7409472880061114, 0.7617944147355912, 0.6693913929208046, 0.7162380103556574, 0.708454290807232, 0.7031746031746031, 0.7019438078261608, 0.7682624564977505, 0.6524318818436465, 0.665452847805789, 0.7422629657923775, 0.7708853238265002, 0.7643833290892112, 0.7058144469909176, 0.7656820303879127, 0.7565401918343095, 0.7578983108394872, 0.7617859264918089, 0.7487904252610135, 0.7604532722179781, 0.6511416687887276, 0.7553009082420847, 0.6810117986588575, 0.7421780833545539, 0.6953823953823954, 0.789126559714795, 0.7787199728376197]}, {\"categories\": [\"0\", \"1\", \"2\", \"3\", \"4\", \"5\", \"6\", \"7\", \"8\", \"9\", \"10\", \"11\", \"12\", \"13\", \"14\", \"15\", \"16\", \"17\", \"18\", \"19\", \"20\", \"21\", \"22\", \"23\", \"24\", \"25\", \"26\", \"27\", \"28\", \"29\", \"30\", \"31\", \"32\", \"33\", \"34\", \"36\", \"37\"], \"mode\": \"lines\", \"name\": \"f1_score_micro_max\", \"stepped\": true, \"type\": \"scatter\", \"data\": [0.7435277141159494, 0.7656395891690009, 0.7669298022239198, 0.7669298022239198, 0.7669298022239198, 0.7669298022239198, 0.7669298022239198, 0.7747729394788218, 0.7747729394788218, 0.7747729394788218, 0.7747729394788218, 0.7747729394788218, 0.7747729394788218, 0.7747729394788218, 0.7747729394788218, 0.7747729394788218, 0.7747729394788218, 0.7747729394788218, 0.7747729394788218, 0.7747729394788218, 0.7747729394788218, 0.7747729394788218, 0.7747729394788218, 0.7747729394788218, 0.7747729394788218, 0.7747729394788218, 0.7747729394788218, 0.7747729394788218, 0.7747729394788218, 0.7747729394788218, 0.7747729394788218, 0.7747729394788218, 0.7747729394788218, 0.7747729394788218, 0.7747729394788218, 0.789126559714795, 0.789126559714795]}]}, \"metricName\": null, \"primaryMetricName\": \"accuracy\", \"showLegend\": false}, \"run_metrics\": [{\"name\": \"experiment_status\", \"run_id\": \"AutoML_b582790a-3d9c-4cd7-a438-914f54928209\", \"categories\": [0, 1, 2, 3, 4, 5, 6, 7, 8, 9, 10, 11, 12, 13], \"series\": [{\"data\": [\"DatasetEvaluation\", \"FeaturesGeneration\", \"DatasetFeaturization\", \"DatasetFeaturizationCompleted\", \"DatasetCrossValidationSplit\", \"ModelSelection\", \"BestRunExplainModel\", \"ModelExplanationDataSetSetup\", \"PickSurrogateModel\", \"EngineeredFeatureExplanations\", \"EngineeredFeatureExplanations\", \"RawFeaturesExplanations\", \"RawFeaturesExplanations\", \"BestRunExplainModel\"]}]}, {\"name\": \"experiment_status_description\", \"run_id\": \"AutoML_b582790a-3d9c-4cd7-a438-914f54928209\", \"categories\": [0, 1, 2, 3, 4, 5, 6, 7, 8, 9, 10, 11, 12, 13], \"series\": [{\"data\": [\"Gathering dataset statistics.\", \"Generating features for the dataset.\", \"Beginning to fit featurizers and featurize the dataset.\", \"Completed fit featurizers and featurizing the dataset.\", \"Generating individually featurized CV splits.\", \"Beginning model selection.\", \"Best run model explanations started\", \"Model explanations data setup completed\", \"Choosing LightGBM as the surrogate model for explanations\", \"Computation of engineered features started\", \"Computation of engineered features completed\", \"Computation of raw features started\", \"Computation of raw features completed\", \"Best run model explanations completed\"]}]}, {\"name\": \"balanced_accuracy\", \"run_id\": \"AutoML_b582790a-3d9c-4cd7-a438-914f54928209\", \"categories\": [0], \"series\": [{\"data\": [0.7420683095491432]}]}, {\"name\": \"log_loss\", \"run_id\": \"AutoML_b582790a-3d9c-4cd7-a438-914f54928209\", \"categories\": [0], \"series\": [{\"data\": [0.4761962774196514]}]}, {\"name\": \"AUC_macro\", \"run_id\": \"AutoML_b582790a-3d9c-4cd7-a438-914f54928209\", \"categories\": [0], \"series\": [{\"data\": [0.8405975636646786]}]}, {\"name\": \"average_precision_score_macro\", \"run_id\": \"AutoML_b582790a-3d9c-4cd7-a438-914f54928209\", \"categories\": [0], \"series\": [{\"data\": [0.8251869733200031]}]}, {\"name\": \"precision_score_micro\", \"run_id\": \"AutoML_b582790a-3d9c-4cd7-a438-914f54928209\", \"categories\": [0], \"series\": [{\"data\": [0.789126559714795]}]}, {\"name\": \"matthews_correlation\", \"run_id\": \"AutoML_b582790a-3d9c-4cd7-a438-914f54928209\", \"categories\": [0], \"series\": [{\"data\": [0.51770179984071]}]}, {\"name\": \"recall_score_micro\", \"run_id\": \"AutoML_b582790a-3d9c-4cd7-a438-914f54928209\", \"categories\": [0], \"series\": [{\"data\": [0.789126559714795]}]}, {\"name\": \"AUC_micro\", \"run_id\": \"AutoML_b582790a-3d9c-4cd7-a438-914f54928209\", \"categories\": [0], \"series\": [{\"data\": [0.8608238538397769]}]}, {\"name\": \"precision_score_macro\", \"run_id\": \"AutoML_b582790a-3d9c-4cd7-a438-914f54928209\", \"categories\": [0], \"series\": [{\"data\": [0.777203383635239]}]}, {\"name\": \"recall_score_weighted\", \"run_id\": \"AutoML_b582790a-3d9c-4cd7-a438-914f54928209\", \"categories\": [0], \"series\": [{\"data\": [0.789126559714795]}]}, {\"name\": \"weighted_accuracy\", \"run_id\": \"AutoML_b582790a-3d9c-4cd7-a438-914f54928209\", \"categories\": [0], \"series\": [{\"data\": [0.8259255419240402]}]}, {\"name\": \"f1_score_micro\", \"run_id\": \"AutoML_b582790a-3d9c-4cd7-a438-914f54928209\", \"categories\": [0], \"series\": [{\"data\": [0.789126559714795]}]}, {\"name\": \"f1_score_weighted\", \"run_id\": \"AutoML_b582790a-3d9c-4cd7-a438-914f54928209\", \"categories\": [0], \"series\": [{\"data\": [0.7822828089221465]}]}, {\"name\": \"recall_score_macro\", \"run_id\": \"AutoML_b582790a-3d9c-4cd7-a438-914f54928209\", \"categories\": [0], \"series\": [{\"data\": [0.7420683095491432]}]}, {\"name\": \"AUC_weighted\", \"run_id\": \"AutoML_b582790a-3d9c-4cd7-a438-914f54928209\", \"categories\": [0], \"series\": [{\"data\": [0.8405975636646786]}]}, {\"name\": \"average_precision_score_weighted\", \"run_id\": \"AutoML_b582790a-3d9c-4cd7-a438-914f54928209\", \"categories\": [0], \"series\": [{\"data\": [0.8528805238627882]}]}, {\"name\": \"norm_macro_recall\", \"run_id\": \"AutoML_b582790a-3d9c-4cd7-a438-914f54928209\", \"categories\": [0], \"series\": [{\"data\": [0.4841366190982866]}]}, {\"name\": \"precision_score_weighted\", \"run_id\": \"AutoML_b582790a-3d9c-4cd7-a438-914f54928209\", \"categories\": [0], \"series\": [{\"data\": [0.7889096872808066]}]}, {\"name\": \"f1_score_macro\", \"run_id\": \"AutoML_b582790a-3d9c-4cd7-a438-914f54928209\", \"categories\": [0], \"series\": [{\"data\": [0.7516440278673007]}]}, {\"name\": \"accuracy\", \"run_id\": \"AutoML_b582790a-3d9c-4cd7-a438-914f54928209\", \"categories\": [0], \"series\": [{\"data\": [0.789126559714795]}]}, {\"name\": \"average_precision_score_micro\", \"run_id\": \"AutoML_b582790a-3d9c-4cd7-a438-914f54928209\", \"categories\": [0], \"series\": [{\"data\": [0.8629228961321662]}]}], \"run_logs\": \"\\nRun is completed.\", \"graph\": {}, \"widget_settings\": {\"childWidgetDisplay\": \"popup\", \"send_telemetry\": false, \"log_level\": \"INFO\", \"sdk_version\": \"1.20.0\"}, \"loading\": false}"
     },
     "metadata": {},
     "output_type": "display_data"
    }
   ],
   "source": [
    "RunDetails(automl_run).show()"
   ]
  },
  {
   "cell_type": "code",
   "execution_count": 11,
   "metadata": {},
   "outputs": [
    {
     "name": "stdout",
     "output_type": "stream",
     "text": [
      "\n",
      "\n",
      "****************************************************************************************************\n",
      "DATA GUARDRAILS: \n",
      "\n",
      "TYPE:         Class balancing detection\n",
      "STATUS:       PASSED\n",
      "DESCRIPTION:  Your inputs were analyzed, and all classes are balanced in your training data.\n",
      "              Learn more about imbalanced data: https://aka.ms/AutomatedMLImbalancedData\n",
      "\n",
      "****************************************************************************************************\n",
      "\n",
      "TYPE:         Missing feature values imputation\n",
      "STATUS:       PASSED\n",
      "DESCRIPTION:  No feature missing values were detected in the training data.\n",
      "              Learn more about missing value imputation: https://aka.ms/AutomatedMLFeaturization\n",
      "\n",
      "****************************************************************************************************\n",
      "\n",
      "TYPE:         High cardinality feature detection\n",
      "STATUS:       PASSED\n",
      "DESCRIPTION:  Your inputs were analyzed, and no high cardinality features were detected.\n",
      "              Learn more about high cardinality feature handling: https://aka.ms/AutomatedMLFeaturization\n",
      "\n",
      "****************************************************************************************************\n",
      "\n",
      "****************************************************************************************************\n",
      "ITERATION: The iteration being evaluated.\n",
      "PIPELINE: A summary description of the pipeline being evaluated.\n",
      "DURATION: Time taken for the current iteration.\n",
      "METRIC: The result of computing score on the fitted pipeline.\n",
      "BEST: The best observed score thus far.\n",
      "****************************************************************************************************\n",
      "\n",
      " ITERATION   PIPELINE                                       DURATION      METRIC      BEST\n",
      "         0   MaxAbsScaler LightGBM                          0:00:59       0.7435    0.7435\n",
      "         1   MaxAbsScaler XGBoostClassifier                 0:05:35       0.7656    0.7656\n",
      "         2   MaxAbsScaler RandomForest                      0:01:01       0.7669    0.7669\n",
      "         3   MaxAbsScaler RandomForest                      0:00:57       0.7409    0.7669\n",
      "         4   MaxAbsScaler RandomForest                      0:05:24       0.7592    0.7669\n",
      "         5   MaxAbsScaler RandomForest                      0:03:31       0.7188    0.7669\n",
      "         6   SparseNormalizer XGBoostClassifier             0:00:55       0.7189    0.7669\n",
      "         7   MaxAbsScaler LogisticRegression                0:00:50       0.7748    0.7748\n",
      "        10   MaxAbsScaler ExtremeRandomTrees                0:01:06       0.7409    0.7748\n",
      "        11   MaxAbsScaler ExtremeRandomTrees                0:01:06       0.7618    0.7748\n",
      "         8   StandardScalerWrapper RandomForest             0:00:55       0.7605    0.7748\n",
      "         9   MaxAbsScaler RandomForest                      0:00:58       0.7644    0.7748\n",
      "        12   MaxAbsScaler LightGBM                          0:00:55       0.6694    0.7748\n",
      "        13   SparseNormalizer XGBoostClassifier             0:01:01       0.7162    0.7748\n",
      "        14   SparseNormalizer XGBoostClassifier             0:00:55       0.7085    0.7748\n",
      "        15   SparseNormalizer XGBoostClassifier             0:00:57       0.7032    0.7748\n",
      "        16   SparseNormalizer XGBoostClassifier             0:00:54       0.7019    0.7748\n",
      "        17   MaxAbsScaler LogisticRegression                0:00:51       0.7683    0.7748\n",
      "        18   SparseNormalizer LightGBM                      0:00:48       0.6524    0.7748\n",
      "        19   SparseNormalizer ExtremeRandomTrees            0:01:02       0.6655    0.7748\n",
      "        20   TruncatedSVDWrapper XGBoostClassifier          0:00:59       0.7423    0.7748\n",
      "        21   StandardScalerWrapper LightGBM                 0:00:49       0.7709    0.7748\n",
      "        22   MaxAbsScaler LightGBM                          0:00:48       0.7644    0.7748\n",
      "        23   SparseNormalizer XGBoostClassifier             0:01:00       0.7058    0.7748\n",
      "        24   StandardScalerWrapper LogisticRegression       0:00:56       0.7657    0.7748\n",
      "        25   StandardScalerWrapper XGBoostClassifier        0:00:49       0.7565    0.7748\n",
      "        26   TruncatedSVDWrapper XGBoostClassifier          0:00:47       0.7579    0.7748\n",
      "        27   MaxAbsScaler RandomForest                      0:01:08       0.7618    0.7748\n",
      "        28   MaxAbsScaler LightGBM                          0:00:50       0.7488    0.7748\n",
      "        29   StandardScalerWrapper XGBoostClassifier        0:00:54       0.7605    0.7748\n",
      "        30   SparseNormalizer LogisticRegression            0:00:51       0.6511    0.7748\n",
      "        31   MaxAbsScaler LightGBM                          0:00:54       0.7553    0.7748\n",
      "        32   SparseNormalizer LightGBM                      0:00:54       0.6810    0.7748\n",
      "        33   MaxAbsScaler RandomForest                      0:00:55       0.7422    0.7748\n",
      "        34   SparseNormalizer LightGBM                      0:00:46       0.6954    0.7748\n",
      "        35                                                  0:00:17          nan    0.7748\n",
      "        36    VotingEnsemble                                0:01:47       0.7891    0.7891\n",
      "        37    StackEnsemble                                 0:01:50       0.7787    0.7891\n"
     ]
    },
    {
     "data": {
      "text/plain": [
       "{'runId': 'AutoML_b582790a-3d9c-4cd7-a438-914f54928209',\n",
       " 'target': 'aml-cluster',\n",
       " 'status': 'Completed',\n",
       " 'startTimeUtc': '2021-02-11T21:04:06.024534Z',\n",
       " 'endTimeUtc': '2021-02-11T21:27:29.624548Z',\n",
       " 'properties': {'num_iterations': '1000',\n",
       "  'training_type': 'TrainFull',\n",
       "  'acquisition_function': 'EI',\n",
       "  'primary_metric': 'accuracy',\n",
       "  'train_split': '0',\n",
       "  'acquisition_parameter': '0',\n",
       "  'num_cross_validation': '5',\n",
       "  'target': 'aml-cluster',\n",
       "  'AMLSettingsJsonString': '{\"path\":null,\"name\":\"diabetes-automl\",\"subscription_id\":\"1b944a9b-fdae-4f97-aeb1-b7eea0beac53\",\"resource_group\":\"aml-quickstarts-138625\",\"workspace_name\":\"quick-starts-ws-138625\",\"region\":\"southcentralus\",\"compute_target\":\"aml-cluster\",\"spark_service\":null,\"azure_service\":\"remote\",\"many_models\":false,\"pipeline_fetch_max_batch_size\":1,\"iterations\":1000,\"primary_metric\":\"accuracy\",\"task_type\":\"classification\",\"data_script\":null,\"validation_size\":0.0,\"n_cross_validations\":5,\"y_min\":null,\"y_max\":null,\"num_classes\":null,\"featurization\":\"auto\",\"_ignore_package_version_incompatibilities\":false,\"is_timeseries\":false,\"max_cores_per_iteration\":1,\"max_concurrent_iterations\":4,\"iteration_timeout_minutes\":null,\"mem_in_mb\":null,\"enforce_time_on_windows\":false,\"experiment_timeout_minutes\":60,\"experiment_exit_score\":null,\"whitelist_models\":null,\"blacklist_algos\":[\"TensorFlowLinearClassifier\",\"TensorFlowDNN\"],\"supported_models\":[\"SVM\",\"RandomForest\",\"GradientBoosting\",\"BernoulliNaiveBayes\",\"KNN\",\"AveragedPerceptronClassifier\",\"MultinomialNaiveBayes\",\"LightGBM\",\"TensorFlowDNN\",\"ExtremeRandomTrees\",\"LinearSVM\",\"TensorFlowLinearClassifier\",\"XGBoostClassifier\",\"LogisticRegression\",\"DecisionTree\",\"SGD\"],\"auto_blacklist\":true,\"blacklist_samples_reached\":false,\"exclude_nan_labels\":true,\"verbosity\":20,\"_debug_log\":\"azureml_automl.log\",\"show_warnings\":false,\"model_explainability\":true,\"service_url\":null,\"sdk_url\":null,\"sdk_packages\":null,\"enable_onnx_compatible_models\":false,\"enable_split_onnx_featurizer_estimator_models\":false,\"vm_type\":\"STANDARD_D2_V2\",\"telemetry_verbosity\":20,\"send_telemetry\":true,\"enable_dnn\":false,\"scenario\":\"SDK-1.13.0\",\"environment_label\":null,\"force_text_dnn\":false,\"enable_feature_sweeping\":true,\"enable_early_stopping\":true,\"early_stopping_n_iters\":10,\"metrics\":null,\"enable_ensembling\":true,\"enable_stack_ensembling\":true,\"ensemble_iterations\":15,\"enable_tf\":false,\"enable_subsampling\":null,\"subsample_seed\":null,\"enable_nimbusml\":false,\"enable_streaming\":false,\"force_streaming\":false,\"track_child_runs\":true,\"allowed_private_models\":[],\"label_column_name\":\"Outcome\",\"weight_column_name\":null,\"cv_split_column_names\":null,\"enable_local_managed\":false,\"_local_managed_run_id\":null,\"cost_mode\":1,\"lag_length\":0,\"metric_operation\":\"maximize\",\"preprocess\":true}',\n",
       "  'DataPrepJsonString': '{\\\\\"training_data\\\\\": \\\\\"{\\\\\\\\\\\\\"blocks\\\\\\\\\\\\\": [{\\\\\\\\\\\\\"id\\\\\\\\\\\\\": \\\\\\\\\\\\\"4f0bae61-2090-481c-8eee-ede203b206c0\\\\\\\\\\\\\", \\\\\\\\\\\\\"type\\\\\\\\\\\\\": \\\\\\\\\\\\\"Microsoft.DPrep.GetFilesBlock\\\\\\\\\\\\\", \\\\\\\\\\\\\"arguments\\\\\\\\\\\\\": {\\\\\\\\\\\\\"isArchive\\\\\\\\\\\\\": false, \\\\\\\\\\\\\"path\\\\\\\\\\\\\": {\\\\\\\\\\\\\"target\\\\\\\\\\\\\": 4, \\\\\\\\\\\\\"resourceDetails\\\\\\\\\\\\\": [{\\\\\\\\\\\\\"path\\\\\\\\\\\\\": \\\\\\\\\\\\\"https://raw.githubusercontent.com/shubhrasachdev/AzureML-Nanodegree-Capstone/main/diabetes.csv\\\\\\\\\\\\\"}]}}, \\\\\\\\\\\\\"localData\\\\\\\\\\\\\": {}, \\\\\\\\\\\\\"isEnabled\\\\\\\\\\\\\": true, \\\\\\\\\\\\\"name\\\\\\\\\\\\\": null, \\\\\\\\\\\\\"annotation\\\\\\\\\\\\\": null}, {\\\\\\\\\\\\\"id\\\\\\\\\\\\\": \\\\\\\\\\\\\"8af4356a-51d4-4511-bbf2-674785e0a493\\\\\\\\\\\\\", \\\\\\\\\\\\\"type\\\\\\\\\\\\\": \\\\\\\\\\\\\"Microsoft.DPrep.ParseDelimitedBlock\\\\\\\\\\\\\", \\\\\\\\\\\\\"arguments\\\\\\\\\\\\\": {\\\\\\\\\\\\\"columnHeadersMode\\\\\\\\\\\\\": 3, \\\\\\\\\\\\\"fileEncoding\\\\\\\\\\\\\": 0, \\\\\\\\\\\\\"handleQuotedLineBreaks\\\\\\\\\\\\\": false, \\\\\\\\\\\\\"preview\\\\\\\\\\\\\": false, \\\\\\\\\\\\\"separator\\\\\\\\\\\\\": \\\\\\\\\\\\\",\\\\\\\\\\\\\", \\\\\\\\\\\\\"skipRows\\\\\\\\\\\\\": 0, \\\\\\\\\\\\\"skipRowsMode\\\\\\\\\\\\\": 0}, \\\\\\\\\\\\\"localData\\\\\\\\\\\\\": {}, \\\\\\\\\\\\\"isEnabled\\\\\\\\\\\\\": true, \\\\\\\\\\\\\"name\\\\\\\\\\\\\": null, \\\\\\\\\\\\\"annotation\\\\\\\\\\\\\": null}, {\\\\\\\\\\\\\"id\\\\\\\\\\\\\": \\\\\\\\\\\\\"7fe3b2e7-43b0-4754-a02c-40ef8a2cb7f6\\\\\\\\\\\\\", \\\\\\\\\\\\\"type\\\\\\\\\\\\\": \\\\\\\\\\\\\"Microsoft.DPrep.DropColumnsBlock\\\\\\\\\\\\\", \\\\\\\\\\\\\"arguments\\\\\\\\\\\\\": {\\\\\\\\\\\\\"columns\\\\\\\\\\\\\": {\\\\\\\\\\\\\"type\\\\\\\\\\\\\": 0, \\\\\\\\\\\\\"details\\\\\\\\\\\\\": {\\\\\\\\\\\\\"selectedColumns\\\\\\\\\\\\\": [\\\\\\\\\\\\\"Path\\\\\\\\\\\\\"]}}}, \\\\\\\\\\\\\"localData\\\\\\\\\\\\\": {}, \\\\\\\\\\\\\"isEnabled\\\\\\\\\\\\\": true, \\\\\\\\\\\\\"name\\\\\\\\\\\\\": null, \\\\\\\\\\\\\"annotation\\\\\\\\\\\\\": null}, {\\\\\\\\\\\\\"id\\\\\\\\\\\\\": \\\\\\\\\\\\\"4a662717-f33c-4d73-ad35-2153347dd9d1\\\\\\\\\\\\\", \\\\\\\\\\\\\"type\\\\\\\\\\\\\": \\\\\\\\\\\\\"Microsoft.DPrep.SetColumnTypesBlock\\\\\\\\\\\\\", \\\\\\\\\\\\\"arguments\\\\\\\\\\\\\": {\\\\\\\\\\\\\"columnConversion\\\\\\\\\\\\\": [{\\\\\\\\\\\\\"column\\\\\\\\\\\\\": {\\\\\\\\\\\\\"type\\\\\\\\\\\\\": 2, \\\\\\\\\\\\\"details\\\\\\\\\\\\\": {\\\\\\\\\\\\\"selectedColumn\\\\\\\\\\\\\": \\\\\\\\\\\\\"Pregnancies\\\\\\\\\\\\\"}}, \\\\\\\\\\\\\"typeProperty\\\\\\\\\\\\\": 2}, {\\\\\\\\\\\\\"column\\\\\\\\\\\\\": {\\\\\\\\\\\\\"type\\\\\\\\\\\\\": 2, \\\\\\\\\\\\\"details\\\\\\\\\\\\\": {\\\\\\\\\\\\\"selectedColumn\\\\\\\\\\\\\": \\\\\\\\\\\\\"Glucose\\\\\\\\\\\\\"}}, \\\\\\\\\\\\\"typeProperty\\\\\\\\\\\\\": 2}, {\\\\\\\\\\\\\"column\\\\\\\\\\\\\": {\\\\\\\\\\\\\"type\\\\\\\\\\\\\": 2, \\\\\\\\\\\\\"details\\\\\\\\\\\\\": {\\\\\\\\\\\\\"selectedColumn\\\\\\\\\\\\\": \\\\\\\\\\\\\"BloodPressure\\\\\\\\\\\\\"}}, \\\\\\\\\\\\\"typeProperty\\\\\\\\\\\\\": 2}, {\\\\\\\\\\\\\"column\\\\\\\\\\\\\": {\\\\\\\\\\\\\"type\\\\\\\\\\\\\": 2, \\\\\\\\\\\\\"details\\\\\\\\\\\\\": {\\\\\\\\\\\\\"selectedColumn\\\\\\\\\\\\\": \\\\\\\\\\\\\"SkinThickness\\\\\\\\\\\\\"}}, \\\\\\\\\\\\\"typeProperty\\\\\\\\\\\\\": 2}, {\\\\\\\\\\\\\"column\\\\\\\\\\\\\": {\\\\\\\\\\\\\"type\\\\\\\\\\\\\": 2, \\\\\\\\\\\\\"details\\\\\\\\\\\\\": {\\\\\\\\\\\\\"selectedColumn\\\\\\\\\\\\\": \\\\\\\\\\\\\"Insulin\\\\\\\\\\\\\"}}, \\\\\\\\\\\\\"typeProperty\\\\\\\\\\\\\": 2}, {\\\\\\\\\\\\\"column\\\\\\\\\\\\\": {\\\\\\\\\\\\\"type\\\\\\\\\\\\\": 2, \\\\\\\\\\\\\"details\\\\\\\\\\\\\": {\\\\\\\\\\\\\"selectedColumn\\\\\\\\\\\\\": \\\\\\\\\\\\\"BMI\\\\\\\\\\\\\"}}, \\\\\\\\\\\\\"typeProperty\\\\\\\\\\\\\": 3}, {\\\\\\\\\\\\\"column\\\\\\\\\\\\\": {\\\\\\\\\\\\\"type\\\\\\\\\\\\\": 2, \\\\\\\\\\\\\"details\\\\\\\\\\\\\": {\\\\\\\\\\\\\"selectedColumn\\\\\\\\\\\\\": \\\\\\\\\\\\\"DiabetesPedigreeFunction\\\\\\\\\\\\\"}}, \\\\\\\\\\\\\"typeProperty\\\\\\\\\\\\\": 3}, {\\\\\\\\\\\\\"column\\\\\\\\\\\\\": {\\\\\\\\\\\\\"type\\\\\\\\\\\\\": 2, \\\\\\\\\\\\\"details\\\\\\\\\\\\\": {\\\\\\\\\\\\\"selectedColumn\\\\\\\\\\\\\": \\\\\\\\\\\\\"Age\\\\\\\\\\\\\"}}, \\\\\\\\\\\\\"typeProperty\\\\\\\\\\\\\": 2}, {\\\\\\\\\\\\\"column\\\\\\\\\\\\\": {\\\\\\\\\\\\\"type\\\\\\\\\\\\\": 2, \\\\\\\\\\\\\"details\\\\\\\\\\\\\": {\\\\\\\\\\\\\"selectedColumn\\\\\\\\\\\\\": \\\\\\\\\\\\\"Outcome\\\\\\\\\\\\\"}}, \\\\\\\\\\\\\"typeProperty\\\\\\\\\\\\\": 2}]}, \\\\\\\\\\\\\"localData\\\\\\\\\\\\\": {}, \\\\\\\\\\\\\"isEnabled\\\\\\\\\\\\\": true, \\\\\\\\\\\\\"name\\\\\\\\\\\\\": null, \\\\\\\\\\\\\"annotation\\\\\\\\\\\\\": null}], \\\\\\\\\\\\\"inspectors\\\\\\\\\\\\\": [], \\\\\\\\\\\\\"meta\\\\\\\\\\\\\": {\\\\\\\\\\\\\"savedDatasetId\\\\\\\\\\\\\": \\\\\\\\\\\\\"7d29aaa6-8a31-41c3-800a-27b53b33101c\\\\\\\\\\\\\", \\\\\\\\\\\\\"datasetType\\\\\\\\\\\\\": \\\\\\\\\\\\\"tabular\\\\\\\\\\\\\", \\\\\\\\\\\\\"subscriptionId\\\\\\\\\\\\\": \\\\\\\\\\\\\"1b944a9b-fdae-4f97-aeb1-b7eea0beac53\\\\\\\\\\\\\", \\\\\\\\\\\\\"workspaceId\\\\\\\\\\\\\": \\\\\\\\\\\\\"d4af649c-6db0-4238-aff3-cbde26d28a86\\\\\\\\\\\\\", \\\\\\\\\\\\\"workspaceLocation\\\\\\\\\\\\\": \\\\\\\\\\\\\"southcentralus\\\\\\\\\\\\\"}}\\\\\", \\\\\"activities\\\\\": 0}',\n",
       "  'EnableSubsampling': None,\n",
       "  'runTemplate': 'AutoML',\n",
       "  'azureml.runsource': 'automl',\n",
       "  'display_task_type': 'classification',\n",
       "  'dependencies_versions': '{\"azureml-widgets\": \"1.20.0\", \"azureml-train\": \"1.20.0\", \"azureml-train-restclients-hyperdrive\": \"1.20.0\", \"azureml-train-core\": \"1.20.0\", \"azureml-train-automl\": \"1.20.0\", \"azureml-train-automl-runtime\": \"1.20.0\", \"azureml-train-automl-client\": \"1.20.0\", \"azureml-tensorboard\": \"1.20.0\", \"azureml-telemetry\": \"1.20.0\", \"azureml-sdk\": \"1.20.0\", \"azureml-samples\": \"0+unknown\", \"azureml-pipeline\": \"1.20.0\", \"azureml-pipeline-steps\": \"1.20.0\", \"azureml-pipeline-core\": \"1.20.0\", \"azureml-opendatasets\": \"1.20.0\", \"azureml-model-management-sdk\": \"1.0.1b6.post1\", \"azureml-mlflow\": \"1.20.0.post1\", \"azureml-interpret\": \"1.20.0\", \"azureml-explain-model\": \"1.20.0\", \"azureml-defaults\": \"1.20.0\", \"azureml-dataset-runtime\": \"1.20.0\", \"azureml-dataprep\": \"2.7.3\", \"azureml-dataprep-rslex\": \"1.5.0\", \"azureml-dataprep-native\": \"27.0.0\", \"azureml-datadrift\": \"1.20.0\", \"azureml-core\": \"1.20.0\", \"azureml-contrib-services\": \"1.20.0\", \"azureml-contrib-server\": \"1.20.0\", \"azureml-contrib-reinforcementlearning\": \"1.20.0\", \"azureml-contrib-pipeline-steps\": \"1.20.0\", \"azureml-contrib-notebook\": \"1.20.0\", \"azureml-contrib-interpret\": \"1.20.0\", \"azureml-contrib-gbdt\": \"1.20.0\", \"azureml-contrib-fairness\": \"1.20.0\", \"azureml-contrib-dataset\": \"1.20.0\", \"azureml-cli-common\": \"1.20.0\", \"azureml-automl-runtime\": \"1.20.0\", \"azureml-automl-core\": \"1.20.0\", \"azureml-accel-models\": \"1.20.0\"}',\n",
       "  '_aml_system_scenario_identification': 'Remote.Parent',\n",
       "  'ClientType': 'SDK',\n",
       "  'environment_cpu_name': 'AzureML-AutoML',\n",
       "  'environment_cpu_label': 'prod',\n",
       "  'environment_gpu_name': 'AzureML-AutoML-GPU',\n",
       "  'environment_gpu_label': 'prod',\n",
       "  'root_attribution': 'automl',\n",
       "  'attribution': 'AutoML',\n",
       "  'Orchestrator': 'AutoML',\n",
       "  'CancelUri': 'https://southcentralus.experiments.azureml.net/jasmine/v1.0/subscriptions/1b944a9b-fdae-4f97-aeb1-b7eea0beac53/resourceGroups/aml-quickstarts-138625/providers/Microsoft.MachineLearningServices/workspaces/quick-starts-ws-138625/experimentids/b2570f78-b542-4dd8-94c8-ea230363090f/cancel/AutoML_b582790a-3d9c-4cd7-a438-914f54928209',\n",
       "  'azureml.git.repository_uri': 'https://github.com/shubhrasachdev/AzureML-Nanodegree-Capstone.git',\n",
       "  'mlflow.source.git.repoURL': 'https://github.com/shubhrasachdev/AzureML-Nanodegree-Capstone.git',\n",
       "  'azureml.git.branch': 'main',\n",
       "  'mlflow.source.git.branch': 'main',\n",
       "  'azureml.git.commit': '048016d83a64181c0f43ae17787ca3cf9be6a195',\n",
       "  'mlflow.source.git.commit': '048016d83a64181c0f43ae17787ca3cf9be6a195',\n",
       "  'ClientSdkVersion': '1.21.0',\n",
       "  'snapshotId': '00000000-0000-0000-0000-000000000000',\n",
       "  'SetupRunId': 'AutoML_b582790a-3d9c-4cd7-a438-914f54928209_setup',\n",
       "  'SetupRunContainerId': 'dcid.AutoML_b582790a-3d9c-4cd7-a438-914f54928209_setup',\n",
       "  'FeaturizationRunJsonPath': 'featurizer_container.json',\n",
       "  'FeaturizationRunId': 'AutoML_b582790a-3d9c-4cd7-a438-914f54928209_featurize',\n",
       "  'ProblemInfoJsonString': '{\"dataset_num_categorical\": 0, \"is_sparse\": true, \"subsampling\": false, \"dataset_classes\": 2, \"dataset_features\": 24, \"dataset_samples\": 768, \"single_frequency_class_detected\": false}',\n",
       "  'ModelExplainRunId': 'AutoML_b582790a-3d9c-4cd7-a438-914f54928209_ModelExplain'},\n",
       " 'inputDatasets': [{'dataset': {'id': '7d29aaa6-8a31-41c3-800a-27b53b33101c'}, 'consumptionDetails': {'type': 'RunInput', 'inputName': 'training_data', 'mechanism': 'Direct'}}],\n",
       " 'outputDatasets': [],\n",
       " 'logFiles': {},\n",
       " 'submittedBy': 'ODL_User 138625'}"
      ]
     },
     "execution_count": 11,
     "metadata": {},
     "output_type": "execute_result"
    }
   ],
   "source": [
    "automl_run.wait_for_completion(show_output=True)"
   ]
  },
  {
   "cell_type": "markdown",
   "metadata": {},
   "source": [
    "## Best Model\n",
    "\n"
   ]
  },
  {
   "cell_type": "code",
   "execution_count": 12,
   "metadata": {
    "gather": {
     "logged": 1598431425670
    },
    "jupyter": {
     "outputs_hidden": false,
     "source_hidden": false
    },
    "nteract": {
     "transient": {
      "deleting": false
     }
    }
   },
   "outputs": [
    {
     "name": "stderr",
     "output_type": "stream",
     "text": [
      "WARNING:root:The version of the SDK does not match the version the model was trained on.\n",
      "WARNING:root:The consistency in the result may not be guaranteed.\n",
      "WARNING:root:Package:azureml-automl-core, training version:1.21.0, current version:1.20.0\n",
      "Package:azureml-automl-runtime, training version:1.21.0, current version:1.20.0\n",
      "Package:azureml-core, training version:1.21.0.post1, current version:1.20.0\n",
      "Package:azureml-dataprep, training version:2.8.2, current version:2.7.3\n",
      "Package:azureml-dataprep-native, training version:28.0.0, current version:27.0.0\n",
      "Package:azureml-dataprep-rslex, training version:1.6.0, current version:1.5.0\n",
      "Package:azureml-dataset-runtime, training version:1.21.0, current version:1.20.0\n",
      "Package:azureml-defaults, training version:1.21.0, current version:1.20.0\n",
      "Package:azureml-interpret, training version:1.21.0, current version:1.20.0\n",
      "Package:azureml-pipeline-core, training version:1.21.0, current version:1.20.0\n",
      "Package:azureml-telemetry, training version:1.21.0, current version:1.20.0\n",
      "Package:azureml-train-automl-client, training version:1.21.0, current version:1.20.0\n",
      "Package:azureml-train-automl-runtime, training version:1.21.0, current version:1.20.0\n",
      "WARNING:root:Please ensure the version of your local conda dependencies match the version on which your model was trained in order to properly retrieve your model.\n"
     ]
    },
    {
     "name": "stdout",
     "output_type": "stream",
     "text": [
      "Run(Experiment: diabetes-automl,\n",
      "Id: AutoML_b582790a-3d9c-4cd7-a438-914f54928209_36,\n",
      "Type: azureml.scriptrun,\n",
      "Status: Completed)\n"
     ]
    }
   ],
   "source": [
    "best_run, fitted_model = automl_run.get_output()\n",
    "print(best_run)"
   ]
  },
  {
   "cell_type": "code",
   "execution_count": 13,
   "metadata": {},
   "outputs": [
    {
     "name": "stdout",
     "output_type": "stream",
     "text": [
      "datatransformer\n",
      "{'enable_dnn': None,\n",
      " 'enable_feature_sweeping': None,\n",
      " 'feature_sweeping_config': None,\n",
      " 'feature_sweeping_timeout': None,\n",
      " 'featurization_config': None,\n",
      " 'force_text_dnn': None,\n",
      " 'is_cross_validation': None,\n",
      " 'is_onnx_compatible': None,\n",
      " 'logger': None,\n",
      " 'observer': None,\n",
      " 'task': None,\n",
      " 'working_dir': None}\n",
      "\n",
      "prefittedsoftvotingclassifier\n",
      "{'estimators': ['7', '21', '17', '2', '24', '4', '26', '20', '33'],\n",
      " 'weights': [0.18181818181818182,\n",
      "             0.18181818181818182,\n",
      "             0.09090909090909091,\n",
      "             0.09090909090909091,\n",
      "             0.09090909090909091,\n",
      "             0.09090909090909091,\n",
      "             0.09090909090909091,\n",
      "             0.09090909090909091,\n",
      "             0.09090909090909091]}\n",
      "\n",
      "7 - maxabsscaler\n",
      "{'copy': True}\n",
      "\n",
      "7 - logisticregression\n",
      "{'C': 7.9060432109076855,\n",
      " 'class_weight': None,\n",
      " 'dual': False,\n",
      " 'fit_intercept': True,\n",
      " 'intercept_scaling': 1,\n",
      " 'l1_ratio': None,\n",
      " 'max_iter': 100,\n",
      " 'multi_class': 'ovr',\n",
      " 'n_jobs': 1,\n",
      " 'penalty': 'l2',\n",
      " 'random_state': None,\n",
      " 'solver': 'saga',\n",
      " 'tol': 0.0001,\n",
      " 'verbose': 0,\n",
      " 'warm_start': False}\n",
      "\n",
      "21 - standardscalerwrapper\n",
      "{'class_name': 'StandardScaler',\n",
      " 'copy': True,\n",
      " 'module_name': 'sklearn.preprocessing._data',\n",
      " 'with_mean': False,\n",
      " 'with_std': False}\n",
      "\n",
      "21 - lightgbmclassifier\n",
      "{'boosting_type': 'goss',\n",
      " 'class_weight': None,\n",
      " 'colsample_bytree': 0.99,\n",
      " 'importance_type': 'split',\n",
      " 'learning_rate': 0.0842121052631579,\n",
      " 'max_bin': 60,\n",
      " 'max_depth': 4,\n",
      " 'min_child_samples': 40,\n",
      " 'min_child_weight': 6,\n",
      " 'min_split_gain': 0.47368421052631576,\n",
      " 'n_estimators': 50,\n",
      " 'n_jobs': 1,\n",
      " 'num_leaves': 152,\n",
      " 'objective': None,\n",
      " 'random_state': None,\n",
      " 'reg_alpha': 0.21052631578947367,\n",
      " 'reg_lambda': 0.5789473684210527,\n",
      " 'silent': True,\n",
      " 'subsample': 1,\n",
      " 'subsample_for_bin': 200000,\n",
      " 'subsample_freq': 0,\n",
      " 'verbose': -10}\n",
      "\n",
      "17 - maxabsscaler\n",
      "{'copy': True}\n",
      "\n",
      "17 - logisticregression\n",
      "{'C': 2.559547922699533,\n",
      " 'class_weight': None,\n",
      " 'dual': False,\n",
      " 'fit_intercept': True,\n",
      " 'intercept_scaling': 1,\n",
      " 'l1_ratio': None,\n",
      " 'max_iter': 100,\n",
      " 'multi_class': 'ovr',\n",
      " 'n_jobs': 1,\n",
      " 'penalty': 'l2',\n",
      " 'random_state': None,\n",
      " 'solver': 'saga',\n",
      " 'tol': 0.0001,\n",
      " 'verbose': 0,\n",
      " 'warm_start': False}\n",
      "\n",
      "2 - maxabsscaler\n",
      "{'copy': True}\n",
      "\n",
      "2 - randomforestclassifier\n",
      "{'bootstrap': False,\n",
      " 'ccp_alpha': 0.0,\n",
      " 'class_weight': None,\n",
      " 'criterion': 'gini',\n",
      " 'max_depth': None,\n",
      " 'max_features': 'sqrt',\n",
      " 'max_leaf_nodes': None,\n",
      " 'max_samples': None,\n",
      " 'min_impurity_decrease': 0.0,\n",
      " 'min_impurity_split': None,\n",
      " 'min_samples_leaf': 0.01,\n",
      " 'min_samples_split': 0.10368421052631578,\n",
      " 'min_weight_fraction_leaf': 0.0,\n",
      " 'n_estimators': 10,\n",
      " 'n_jobs': 1,\n",
      " 'oob_score': False,\n",
      " 'random_state': None,\n",
      " 'verbose': 0,\n",
      " 'warm_start': False}\n",
      "\n",
      "24 - standardscalerwrapper\n",
      "{'class_name': 'StandardScaler',\n",
      " 'copy': True,\n",
      " 'module_name': 'sklearn.preprocessing._data',\n",
      " 'with_mean': False,\n",
      " 'with_std': False}\n",
      "\n",
      "24 - logisticregression\n",
      "{'C': 0.009102981779915217,\n",
      " 'class_weight': None,\n",
      " 'dual': False,\n",
      " 'fit_intercept': True,\n",
      " 'intercept_scaling': 1,\n",
      " 'l1_ratio': None,\n",
      " 'max_iter': 100,\n",
      " 'multi_class': 'ovr',\n",
      " 'n_jobs': 1,\n",
      " 'penalty': 'l2',\n",
      " 'random_state': None,\n",
      " 'solver': 'lbfgs',\n",
      " 'tol': 0.0001,\n",
      " 'verbose': 0,\n",
      " 'warm_start': False}\n",
      "\n",
      "4 - maxabsscaler\n",
      "{'copy': True}\n",
      "\n",
      "4 - randomforestclassifier\n",
      "{'bootstrap': True,\n",
      " 'ccp_alpha': 0.0,\n",
      " 'class_weight': 'balanced',\n",
      " 'criterion': 'gini',\n",
      " 'max_depth': None,\n",
      " 'max_features': 'log2',\n",
      " 'max_leaf_nodes': None,\n",
      " 'max_samples': None,\n",
      " 'min_impurity_decrease': 0.0,\n",
      " 'min_impurity_split': None,\n",
      " 'min_samples_leaf': 0.01,\n",
      " 'min_samples_split': 0.01,\n",
      " 'min_weight_fraction_leaf': 0.0,\n",
      " 'n_estimators': 25,\n",
      " 'n_jobs': 1,\n",
      " 'oob_score': True,\n",
      " 'random_state': None,\n",
      " 'verbose': 0,\n",
      " 'warm_start': False}\n",
      "\n",
      "26 - truncatedsvdwrapper\n",
      "{'n_components': 0.8510526315789474, 'random_state': None}\n",
      "\n",
      "26 - xgboostclassifier\n",
      "{'base_score': 0.5,\n",
      " 'booster': 'gbtree',\n",
      " 'colsample_bylevel': 1,\n",
      " 'colsample_bynode': 1,\n",
      " 'colsample_bytree': 0.6,\n",
      " 'eta': 0.2,\n",
      " 'gamma': 0.1,\n",
      " 'learning_rate': 0.1,\n",
      " 'max_delta_step': 0,\n",
      " 'max_depth': 8,\n",
      " 'max_leaves': 31,\n",
      " 'min_child_weight': 1,\n",
      " 'missing': nan,\n",
      " 'n_estimators': 100,\n",
      " 'n_jobs': 1,\n",
      " 'nthread': None,\n",
      " 'objective': 'reg:logistic',\n",
      " 'random_state': 0,\n",
      " 'reg_alpha': 2.0833333333333335,\n",
      " 'reg_lambda': 0.4166666666666667,\n",
      " 'scale_pos_weight': 1,\n",
      " 'seed': None,\n",
      " 'silent': None,\n",
      " 'subsample': 0.6,\n",
      " 'tree_method': 'auto',\n",
      " 'verbose': -10,\n",
      " 'verbosity': 0}\n",
      "\n",
      "20 - truncatedsvdwrapper\n",
      "{'n_components': 0.6036842105263158, 'random_state': None}\n",
      "\n",
      "20 - xgboostclassifier\n",
      "{'base_score': 0.5,\n",
      " 'booster': 'gbtree',\n",
      " 'colsample_bylevel': 1,\n",
      " 'colsample_bynode': 1,\n",
      " 'colsample_bytree': 1,\n",
      " 'eta': 0.3,\n",
      " 'gamma': 0.1,\n",
      " 'learning_rate': 0.1,\n",
      " 'max_delta_step': 0,\n",
      " 'max_depth': 9,\n",
      " 'max_leaves': 0,\n",
      " 'min_child_weight': 1,\n",
      " 'missing': nan,\n",
      " 'n_estimators': 25,\n",
      " 'n_jobs': 1,\n",
      " 'nthread': None,\n",
      " 'objective': 'reg:logistic',\n",
      " 'random_state': 0,\n",
      " 'reg_alpha': 0,\n",
      " 'reg_lambda': 2.5,\n",
      " 'scale_pos_weight': 1,\n",
      " 'seed': None,\n",
      " 'silent': None,\n",
      " 'subsample': 0.9,\n",
      " 'tree_method': 'auto',\n",
      " 'verbose': -10,\n",
      " 'verbosity': 0}\n",
      "\n",
      "33 - maxabsscaler\n",
      "{'copy': True}\n",
      "\n",
      "33 - randomforestclassifier\n",
      "{'bootstrap': False,\n",
      " 'ccp_alpha': 0.0,\n",
      " 'class_weight': 'balanced',\n",
      " 'criterion': 'gini',\n",
      " 'max_depth': None,\n",
      " 'max_features': 0.2,\n",
      " 'max_leaf_nodes': None,\n",
      " 'max_samples': None,\n",
      " 'min_impurity_decrease': 0.0,\n",
      " 'min_impurity_split': None,\n",
      " 'min_samples_leaf': 0.06157894736842105,\n",
      " 'min_samples_split': 0.10368421052631578,\n",
      " 'min_weight_fraction_leaf': 0.0,\n",
      " 'n_estimators': 50,\n",
      " 'n_jobs': 1,\n",
      " 'oob_score': False,\n",
      " 'random_state': None,\n",
      " 'verbose': 0,\n",
      " 'warm_start': False}\n",
      "\n"
     ]
    }
   ],
   "source": [
    "def print_model(model, prefix=\"\"):\n",
    "    for step in model.steps:\n",
    "        print(prefix + step[0])\n",
    "        if hasattr(step[1], 'estimators') and hasattr(step[1], 'weights'):\n",
    "            pprint({'estimators': list(\n",
    "                e[0] for e in step[1].estimators), 'weights': step[1].weights})\n",
    "            print()\n",
    "            for estimator in step[1].estimators:\n",
    "                print_model(estimator[1], estimator[0] + ' - ')\n",
    "        else:\n",
    "            pprint(step[1].get_params())\n",
    "            print()\n",
    "\n",
    "print_model(fitted_model)"
   ]
  },
  {
   "cell_type": "code",
   "execution_count": 15,
   "metadata": {
    "gather": {
     "logged": 1598431426111
    },
    "jupyter": {
     "outputs_hidden": false,
     "source_hidden": false
    },
    "nteract": {
     "transient": {
      "deleting": false
     }
    }
   },
   "outputs": [
    {
     "data": {
      "text/plain": [
       "['./outputs/best_automl_model.joblib']"
      ]
     },
     "execution_count": 15,
     "metadata": {},
     "output_type": "execute_result"
    }
   ],
   "source": [
    "joblib.dump(value = fitted_model, filename = './outputs/best_automl_model.joblib')"
   ]
  },
  {
   "cell_type": "code",
   "execution_count": 18,
   "metadata": {},
   "outputs": [
    {
     "name": "stdout",
     "output_type": "stream",
     "text": [
      "Registering model automl\n"
     ]
    }
   ],
   "source": [
    "from azureml.core.model import Model\n",
    "model = Model.register(model_path=\"./outputs/best_automl_model.joblib\",\n",
    "                       model_name=\"automl\",\n",
    "                       workspace = ws)"
   ]
  }
 ],
 "metadata": {
  "kernel_info": {
   "name": "python3-azureml"
  },
  "kernelspec": {
   "display_name": "Python 3",
   "language": "python",
   "name": "python3"
  },
  "language_info": {
   "codemirror_mode": {
    "name": "ipython",
    "version": 3
   },
   "file_extension": ".py",
   "mimetype": "text/x-python",
   "name": "python",
   "nbconvert_exporter": "python",
   "pygments_lexer": "ipython3",
   "version": "3.6.9"
  },
  "nteract": {
   "version": "nteract-front-end@1.0.0"
  }
 },
 "nbformat": 4,
 "nbformat_minor": 2
}
